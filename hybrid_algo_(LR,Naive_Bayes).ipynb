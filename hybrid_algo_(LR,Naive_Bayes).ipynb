{
  "cells": [
    {
      "cell_type": "markdown",
      "metadata": {
        "id": "view-in-github",
        "colab_type": "text"
      },
      "source": [
        "<a href=\"https://colab.research.google.com/github/OM-VIT/Python-Machine-Learning-Notebooks/blob/main/hybrid_algo_(LR%2CNaive_Bayes).ipynb\" target=\"_parent\"><img src=\"https://colab.research.google.com/assets/colab-badge.svg\" alt=\"Open In Colab\"/></a>"
      ]
    },
    {
      "cell_type": "code",
      "execution_count": 1,
      "metadata": {
        "id": "rCk87sQctcPs"
      },
      "outputs": [],
      "source": [
        "#Importing the libraries\n",
        "import numpy as np\n",
        "import matplotlib.pyplot as plt\n",
        "import pandas as pd\n",
        "import seaborn as sns\n",
        "import pickle\n",
        "\n",
        "from sklearn.feature_extraction.text import TfidfVectorizer\n",
        "from sklearn.tree import DecisionTreeClassifier\n",
        "from sklearn.linear_model import LogisticRegression\n",
        "from sklearn.svm import SVC\n",
        "from sklearn.neighbors import KNeighborsClassifier\n",
        "from sklearn.naive_bayes import MultinomialNB\n",
        "from sklearn.ensemble import VotingClassifier\n",
        "from sklearn import model_selection\n",
        "from sklearn.metrics import confusion_matrix\n",
        "from sklearn. preprocessing import StandardScaler\n",
        "from sklearn.model_selection import train_test_split\n",
        "from google.colab import drive"
      ]
    },
    {
      "cell_type": "code",
      "execution_count": 2,
      "metadata": {
        "colab": {
          "base_uri": "https://localhost:8080/"
        },
        "id": "YegIng1flyQG",
        "outputId": "d872b452-efbe-496e-f6d2-8b5550f89646"
      },
      "outputs": [
        {
          "output_type": "stream",
          "name": "stdout",
          "text": [
            "Mounted at /content/drive\n"
          ]
        }
      ],
      "source": [
        "from google.colab import drive\n",
        "drive.mount('/content/drive')"
      ]
    },
    {
      "cell_type": "code",
      "execution_count": 3,
      "metadata": {
        "colab": {
          "base_uri": "https://localhost:8080/"
        },
        "id": "XKsc8nyPe2G4",
        "outputId": "e162d9fa-99ff-42c0-964a-a9aa990e7a9e"
      },
      "outputs": [
        {
          "output_type": "stream",
          "name": "stdout",
          "text": [
            "Drive already mounted at /content/drive; to attempt to forcibly remount, call drive.mount(\"/content/drive\", force_remount=True).\n"
          ]
        }
      ],
      "source": [
        "drive.mount('/content/drive')"
      ]
    },
    {
      "cell_type": "code",
      "execution_count": 4,
      "metadata": {
        "colab": {
          "base_uri": "https://localhost:8080/",
          "height": 206
        },
        "id": "78VoMxBvu4Sj",
        "outputId": "a5a02fae-a1e5-4b33-bcc5-8477f55c44fe"
      },
      "outputs": [
        {
          "output_type": "execute_result",
          "data": {
            "text/plain": [
              "                                                 URL Label\n",
              "0  nobell.it/70ffb52d079109dca5664cce6f317373782/...   bad\n",
              "1  www.dghjdgf.com/paypal.co.uk/cycgi-bin/webscrc...   bad\n",
              "2  serviciosbys.com/paypal.cgi.bin.get-into.herf....   bad\n",
              "3  mail.printakid.com/www.online.americanexpress....   bad\n",
              "4  thewhiskeydregs.com/wp-content/themes/widescre...   bad"
            ],
            "text/html": [
              "\n",
              "  <div id=\"df-f8dd4d44-d102-480d-ac20-0df4097351c9\">\n",
              "    <div class=\"colab-df-container\">\n",
              "      <div>\n",
              "<style scoped>\n",
              "    .dataframe tbody tr th:only-of-type {\n",
              "        vertical-align: middle;\n",
              "    }\n",
              "\n",
              "    .dataframe tbody tr th {\n",
              "        vertical-align: top;\n",
              "    }\n",
              "\n",
              "    .dataframe thead th {\n",
              "        text-align: right;\n",
              "    }\n",
              "</style>\n",
              "<table border=\"1\" class=\"dataframe\">\n",
              "  <thead>\n",
              "    <tr style=\"text-align: right;\">\n",
              "      <th></th>\n",
              "      <th>URL</th>\n",
              "      <th>Label</th>\n",
              "    </tr>\n",
              "  </thead>\n",
              "  <tbody>\n",
              "    <tr>\n",
              "      <th>0</th>\n",
              "      <td>nobell.it/70ffb52d079109dca5664cce6f317373782/...</td>\n",
              "      <td>bad</td>\n",
              "    </tr>\n",
              "    <tr>\n",
              "      <th>1</th>\n",
              "      <td>www.dghjdgf.com/paypal.co.uk/cycgi-bin/webscrc...</td>\n",
              "      <td>bad</td>\n",
              "    </tr>\n",
              "    <tr>\n",
              "      <th>2</th>\n",
              "      <td>serviciosbys.com/paypal.cgi.bin.get-into.herf....</td>\n",
              "      <td>bad</td>\n",
              "    </tr>\n",
              "    <tr>\n",
              "      <th>3</th>\n",
              "      <td>mail.printakid.com/www.online.americanexpress....</td>\n",
              "      <td>bad</td>\n",
              "    </tr>\n",
              "    <tr>\n",
              "      <th>4</th>\n",
              "      <td>thewhiskeydregs.com/wp-content/themes/widescre...</td>\n",
              "      <td>bad</td>\n",
              "    </tr>\n",
              "  </tbody>\n",
              "</table>\n",
              "</div>\n",
              "      <button class=\"colab-df-convert\" onclick=\"convertToInteractive('df-f8dd4d44-d102-480d-ac20-0df4097351c9')\"\n",
              "              title=\"Convert this dataframe to an interactive table.\"\n",
              "              style=\"display:none;\">\n",
              "        \n",
              "  <svg xmlns=\"http://www.w3.org/2000/svg\" height=\"24px\"viewBox=\"0 0 24 24\"\n",
              "       width=\"24px\">\n",
              "    <path d=\"M0 0h24v24H0V0z\" fill=\"none\"/>\n",
              "    <path d=\"M18.56 5.44l.94 2.06.94-2.06 2.06-.94-2.06-.94-.94-2.06-.94 2.06-2.06.94zm-11 1L8.5 8.5l.94-2.06 2.06-.94-2.06-.94L8.5 2.5l-.94 2.06-2.06.94zm10 10l.94 2.06.94-2.06 2.06-.94-2.06-.94-.94-2.06-.94 2.06-2.06.94z\"/><path d=\"M17.41 7.96l-1.37-1.37c-.4-.4-.92-.59-1.43-.59-.52 0-1.04.2-1.43.59L10.3 9.45l-7.72 7.72c-.78.78-.78 2.05 0 2.83L4 21.41c.39.39.9.59 1.41.59.51 0 1.02-.2 1.41-.59l7.78-7.78 2.81-2.81c.8-.78.8-2.07 0-2.86zM5.41 20L4 18.59l7.72-7.72 1.47 1.35L5.41 20z\"/>\n",
              "  </svg>\n",
              "      </button>\n",
              "      \n",
              "  <style>\n",
              "    .colab-df-container {\n",
              "      display:flex;\n",
              "      flex-wrap:wrap;\n",
              "      gap: 12px;\n",
              "    }\n",
              "\n",
              "    .colab-df-convert {\n",
              "      background-color: #E8F0FE;\n",
              "      border: none;\n",
              "      border-radius: 50%;\n",
              "      cursor: pointer;\n",
              "      display: none;\n",
              "      fill: #1967D2;\n",
              "      height: 32px;\n",
              "      padding: 0 0 0 0;\n",
              "      width: 32px;\n",
              "    }\n",
              "\n",
              "    .colab-df-convert:hover {\n",
              "      background-color: #E2EBFA;\n",
              "      box-shadow: 0px 1px 2px rgba(60, 64, 67, 0.3), 0px 1px 3px 1px rgba(60, 64, 67, 0.15);\n",
              "      fill: #174EA6;\n",
              "    }\n",
              "\n",
              "    [theme=dark] .colab-df-convert {\n",
              "      background-color: #3B4455;\n",
              "      fill: #D2E3FC;\n",
              "    }\n",
              "\n",
              "    [theme=dark] .colab-df-convert:hover {\n",
              "      background-color: #434B5C;\n",
              "      box-shadow: 0px 1px 3px 1px rgba(0, 0, 0, 0.15);\n",
              "      filter: drop-shadow(0px 1px 2px rgba(0, 0, 0, 0.3));\n",
              "      fill: #FFFFFF;\n",
              "    }\n",
              "  </style>\n",
              "\n",
              "      <script>\n",
              "        const buttonEl =\n",
              "          document.querySelector('#df-f8dd4d44-d102-480d-ac20-0df4097351c9 button.colab-df-convert');\n",
              "        buttonEl.style.display =\n",
              "          google.colab.kernel.accessAllowed ? 'block' : 'none';\n",
              "\n",
              "        async function convertToInteractive(key) {\n",
              "          const element = document.querySelector('#df-f8dd4d44-d102-480d-ac20-0df4097351c9');\n",
              "          const dataTable =\n",
              "            await google.colab.kernel.invokeFunction('convertToInteractive',\n",
              "                                                     [key], {});\n",
              "          if (!dataTable) return;\n",
              "\n",
              "          const docLinkHtml = 'Like what you see? Visit the ' +\n",
              "            '<a target=\"_blank\" href=https://colab.research.google.com/notebooks/data_table.ipynb>data table notebook</a>'\n",
              "            + ' to learn more about interactive tables.';\n",
              "          element.innerHTML = '';\n",
              "          dataTable['output_type'] = 'display_data';\n",
              "          await google.colab.output.renderOutput(dataTable, element);\n",
              "          const docLink = document.createElement('div');\n",
              "          docLink.innerHTML = docLinkHtml;\n",
              "          element.appendChild(docLink);\n",
              "        }\n",
              "      </script>\n",
              "    </div>\n",
              "  </div>\n",
              "  "
            ]
          },
          "metadata": {},
          "execution_count": 4
        }
      ],
      "source": [
        "#Loading the data\n",
        "dataset = pd.read_csv('/content/drive/MyDrive/Phishing Website Detection Dataset /phishing_site_urls.csv')\n",
        "dataset.head()\n"
      ]
    },
    {
      "cell_type": "code",
      "execution_count": 5,
      "metadata": {
        "colab": {
          "base_uri": "https://localhost:8080/",
          "height": 206
        },
        "id": "F4sv2sGrzlwr",
        "outputId": "9fcbde06-187d-47c9-c622-94771c390dd3"
      },
      "outputs": [
        {
          "output_type": "execute_result",
          "data": {
            "text/plain": [
              "                       URL Label\n",
              "549341     23.227.196.215/   bad\n",
              "549342  apple-checker.org/   bad\n",
              "549343   apple-iclods.org/   bad\n",
              "549344  apple-uptoday.org/   bad\n",
              "549345   apple-search.info   bad"
            ],
            "text/html": [
              "\n",
              "  <div id=\"df-55b0430e-8a5d-423f-8603-7b4028e84cc6\">\n",
              "    <div class=\"colab-df-container\">\n",
              "      <div>\n",
              "<style scoped>\n",
              "    .dataframe tbody tr th:only-of-type {\n",
              "        vertical-align: middle;\n",
              "    }\n",
              "\n",
              "    .dataframe tbody tr th {\n",
              "        vertical-align: top;\n",
              "    }\n",
              "\n",
              "    .dataframe thead th {\n",
              "        text-align: right;\n",
              "    }\n",
              "</style>\n",
              "<table border=\"1\" class=\"dataframe\">\n",
              "  <thead>\n",
              "    <tr style=\"text-align: right;\">\n",
              "      <th></th>\n",
              "      <th>URL</th>\n",
              "      <th>Label</th>\n",
              "    </tr>\n",
              "  </thead>\n",
              "  <tbody>\n",
              "    <tr>\n",
              "      <th>549341</th>\n",
              "      <td>23.227.196.215/</td>\n",
              "      <td>bad</td>\n",
              "    </tr>\n",
              "    <tr>\n",
              "      <th>549342</th>\n",
              "      <td>apple-checker.org/</td>\n",
              "      <td>bad</td>\n",
              "    </tr>\n",
              "    <tr>\n",
              "      <th>549343</th>\n",
              "      <td>apple-iclods.org/</td>\n",
              "      <td>bad</td>\n",
              "    </tr>\n",
              "    <tr>\n",
              "      <th>549344</th>\n",
              "      <td>apple-uptoday.org/</td>\n",
              "      <td>bad</td>\n",
              "    </tr>\n",
              "    <tr>\n",
              "      <th>549345</th>\n",
              "      <td>apple-search.info</td>\n",
              "      <td>bad</td>\n",
              "    </tr>\n",
              "  </tbody>\n",
              "</table>\n",
              "</div>\n",
              "      <button class=\"colab-df-convert\" onclick=\"convertToInteractive('df-55b0430e-8a5d-423f-8603-7b4028e84cc6')\"\n",
              "              title=\"Convert this dataframe to an interactive table.\"\n",
              "              style=\"display:none;\">\n",
              "        \n",
              "  <svg xmlns=\"http://www.w3.org/2000/svg\" height=\"24px\"viewBox=\"0 0 24 24\"\n",
              "       width=\"24px\">\n",
              "    <path d=\"M0 0h24v24H0V0z\" fill=\"none\"/>\n",
              "    <path d=\"M18.56 5.44l.94 2.06.94-2.06 2.06-.94-2.06-.94-.94-2.06-.94 2.06-2.06.94zm-11 1L8.5 8.5l.94-2.06 2.06-.94-2.06-.94L8.5 2.5l-.94 2.06-2.06.94zm10 10l.94 2.06.94-2.06 2.06-.94-2.06-.94-.94-2.06-.94 2.06-2.06.94z\"/><path d=\"M17.41 7.96l-1.37-1.37c-.4-.4-.92-.59-1.43-.59-.52 0-1.04.2-1.43.59L10.3 9.45l-7.72 7.72c-.78.78-.78 2.05 0 2.83L4 21.41c.39.39.9.59 1.41.59.51 0 1.02-.2 1.41-.59l7.78-7.78 2.81-2.81c.8-.78.8-2.07 0-2.86zM5.41 20L4 18.59l7.72-7.72 1.47 1.35L5.41 20z\"/>\n",
              "  </svg>\n",
              "      </button>\n",
              "      \n",
              "  <style>\n",
              "    .colab-df-container {\n",
              "      display:flex;\n",
              "      flex-wrap:wrap;\n",
              "      gap: 12px;\n",
              "    }\n",
              "\n",
              "    .colab-df-convert {\n",
              "      background-color: #E8F0FE;\n",
              "      border: none;\n",
              "      border-radius: 50%;\n",
              "      cursor: pointer;\n",
              "      display: none;\n",
              "      fill: #1967D2;\n",
              "      height: 32px;\n",
              "      padding: 0 0 0 0;\n",
              "      width: 32px;\n",
              "    }\n",
              "\n",
              "    .colab-df-convert:hover {\n",
              "      background-color: #E2EBFA;\n",
              "      box-shadow: 0px 1px 2px rgba(60, 64, 67, 0.3), 0px 1px 3px 1px rgba(60, 64, 67, 0.15);\n",
              "      fill: #174EA6;\n",
              "    }\n",
              "\n",
              "    [theme=dark] .colab-df-convert {\n",
              "      background-color: #3B4455;\n",
              "      fill: #D2E3FC;\n",
              "    }\n",
              "\n",
              "    [theme=dark] .colab-df-convert:hover {\n",
              "      background-color: #434B5C;\n",
              "      box-shadow: 0px 1px 3px 1px rgba(0, 0, 0, 0.15);\n",
              "      filter: drop-shadow(0px 1px 2px rgba(0, 0, 0, 0.3));\n",
              "      fill: #FFFFFF;\n",
              "    }\n",
              "  </style>\n",
              "\n",
              "      <script>\n",
              "        const buttonEl =\n",
              "          document.querySelector('#df-55b0430e-8a5d-423f-8603-7b4028e84cc6 button.colab-df-convert');\n",
              "        buttonEl.style.display =\n",
              "          google.colab.kernel.accessAllowed ? 'block' : 'none';\n",
              "\n",
              "        async function convertToInteractive(key) {\n",
              "          const element = document.querySelector('#df-55b0430e-8a5d-423f-8603-7b4028e84cc6');\n",
              "          const dataTable =\n",
              "            await google.colab.kernel.invokeFunction('convertToInteractive',\n",
              "                                                     [key], {});\n",
              "          if (!dataTable) return;\n",
              "\n",
              "          const docLinkHtml = 'Like what you see? Visit the ' +\n",
              "            '<a target=\"_blank\" href=https://colab.research.google.com/notebooks/data_table.ipynb>data table notebook</a>'\n",
              "            + ' to learn more about interactive tables.';\n",
              "          element.innerHTML = '';\n",
              "          dataTable['output_type'] = 'display_data';\n",
              "          await google.colab.output.renderOutput(dataTable, element);\n",
              "          const docLink = document.createElement('div');\n",
              "          docLink.innerHTML = docLinkHtml;\n",
              "          element.appendChild(docLink);\n",
              "        }\n",
              "      </script>\n",
              "    </div>\n",
              "  </div>\n",
              "  "
            ]
          },
          "metadata": {},
          "execution_count": 5
        }
      ],
      "source": [
        "dataset.tail()"
      ]
    },
    {
      "cell_type": "code",
      "execution_count": 6,
      "metadata": {
        "colab": {
          "base_uri": "https://localhost:8080/"
        },
        "id": "o0KCS1VxzsjA",
        "outputId": "fa1de93e-24b2-414f-a4f3-6fe434a7f4dc"
      },
      "outputs": [
        {
          "output_type": "execute_result",
          "data": {
            "text/plain": [
              "(549346, 2)"
            ]
          },
          "metadata": {},
          "execution_count": 6
        }
      ],
      "source": [
        "#Checking the shape of the dataset\n",
        "dataset.shape"
      ]
    },
    {
      "cell_type": "code",
      "execution_count": 7,
      "metadata": {
        "colab": {
          "base_uri": "https://localhost:8080/"
        },
        "id": "6rrzhl4Ezt6m",
        "outputId": "967972b8-a345-48ef-ba0d-168a39297cd8"
      },
      "outputs": [
        {
          "output_type": "execute_result",
          "data": {
            "text/plain": [
              "Index(['URL', 'Label'], dtype='object')"
            ]
          },
          "metadata": {},
          "execution_count": 7
        }
      ],
      "source": [
        "#Listing the features of the dataset\n",
        "dataset.columns"
      ]
    },
    {
      "cell_type": "code",
      "execution_count": 8,
      "metadata": {
        "colab": {
          "base_uri": "https://localhost:8080/"
        },
        "id": "M8J7DcF6zxcY",
        "outputId": "314b1758-da6f-4a62-bca1-001bc05e96b6"
      },
      "outputs": [
        {
          "output_type": "stream",
          "name": "stdout",
          "text": [
            "<class 'pandas.core.frame.DataFrame'>\n",
            "RangeIndex: 549346 entries, 0 to 549345\n",
            "Data columns (total 2 columns):\n",
            " #   Column  Non-Null Count   Dtype \n",
            "---  ------  --------------   ----- \n",
            " 0   URL     549346 non-null  object\n",
            " 1   Label   549346 non-null  object\n",
            "dtypes: object(2)\n",
            "memory usage: 8.4+ MB\n"
          ]
        }
      ],
      "source": [
        "#Information about the dataset\n",
        "dataset.info()"
      ]
    },
    {
      "cell_type": "code",
      "execution_count": 9,
      "metadata": {
        "colab": {
          "base_uri": "https://localhost:8080/"
        },
        "id": "J28ziTojz3jN",
        "outputId": "efa42abb-530e-4fcd-b912-89554aee3c61"
      },
      "outputs": [
        {
          "output_type": "execute_result",
          "data": {
            "text/plain": [
              "URL      0\n",
              "Label    0\n",
              "dtype: int64"
            ]
          },
          "metadata": {},
          "execution_count": 9
        }
      ],
      "source": [
        "dataset.isnull().sum() # there is no missing values"
      ]
    },
    {
      "cell_type": "markdown",
      "metadata": {
        "id": "hBeI_eDtz7Ol"
      },
      "source": [
        "Data Visualizations"
      ]
    },
    {
      "cell_type": "code",
      "execution_count": 10,
      "metadata": {
        "id": "UaXyk-Hdz8cm"
      },
      "outputs": [],
      "source": [
        "#create a dataframe of classes counts\n",
        "label_counts = pd.DataFrame(dataset.Label.value_counts())"
      ]
    },
    {
      "cell_type": "code",
      "execution_count": 11,
      "metadata": {
        "colab": {
          "base_uri": "https://localhost:8080/",
          "height": 337
        },
        "id": "ezalIYutz8rn",
        "outputId": "0be29da8-927b-4c75-e8e1-8f57451cdf76"
      },
      "outputs": [
        {
          "output_type": "stream",
          "name": "stderr",
          "text": [
            "/usr/local/lib/python3.7/dist-packages/seaborn/_decorators.py:43: FutureWarning: Pass the following variables as keyword args: x, y. From version 0.12, the only valid positional argument will be `data`, and passing other arguments without an explicit keyword will result in an error or misinterpretation.\n",
            "  FutureWarning\n"
          ]
        },
        {
          "output_type": "execute_result",
          "data": {
            "text/plain": [
              "<matplotlib.axes._subplots.AxesSubplot at 0x7fe746341b90>"
            ]
          },
          "metadata": {},
          "execution_count": 11
        },
        {
          "output_type": "display_data",
          "data": {
            "text/plain": [
              "<Figure size 432x288 with 1 Axes>"
            ],
            "image/png": "[encoded data removed]"
          },
          "metadata": {}
        }
      ],
      "source": [
        "#visualizing target_col\n",
        "sns.set_style('darkgrid')\n",
        "sns.barplot(label_counts.index,label_counts.Label)"
      ]
    },
    {
      "cell_type": "code",
      "execution_count": 11,
      "metadata": {
        "id": "W2KZkKhf0EEJ"
      },
      "outputs": [],
      "source": [
        ""
      ]
    },
    {
      "cell_type": "markdown",
      "metadata": {
        "id": "7FQ71LYI0G-y"
      },
      "source": [
        "Data Standardization"
      ]
    },
    {
      "cell_type": "code",
      "execution_count": 12,
      "metadata": {
        "id": "tGrRw43gzGUr"
      },
      "outputs": [],
      "source": [
        "def makeTokens(f):\n",
        "    tkns_BySlash = str(f.encode('utf-8')).split('/')\t# make tokens after splitting by slash\n",
        "    total_Tokens = []\n",
        "    for i in tkns_BySlash:\n",
        "        tokens = str(i).split('-')\t# make tokens after splitting by dash\n",
        "        tkns_ByDot = []\n",
        "        for j in range(0,len(tokens)):\n",
        "            temp_Tokens = str(tokens[j]).split('.')\t# make tokens after splitting by dot\n",
        "            tkns_ByDot = tkns_ByDot + temp_Tokens\n",
        "        total_Tokens = total_Tokens + tokens + tkns_ByDot\n",
        "    total_Tokens = list(set(total_Tokens))\t#remove redundant tokens\n",
        "    if 'com' in total_Tokens:\n",
        "        total_Tokens.remove('com')\t#removing .com since it occurs a lot of times and it should not be included in our features\n",
        "    return total_Tokens"
      ]
    },
    {
      "cell_type": "code",
      "execution_count": 13,
      "metadata": {
        "id": "jKXDRxQCz18A"
      },
      "outputs": [],
      "source": [
        "# Labels\n",
        "y = dataset[\"Label\"]"
      ]
    },
    {
      "cell_type": "code",
      "execution_count": 14,
      "metadata": {
        "id": "zo75LsIQztib"
      },
      "outputs": [],
      "source": [
        "# Features\n",
        "url_list = dataset[\"URL\"]"
      ]
    },
    {
      "cell_type": "code",
      "execution_count": 15,
      "metadata": {
        "id": "7aJ4FqUYz6r6"
      },
      "outputs": [],
      "source": [
        "# Using Custom Tokenizer\n",
        "vectorizer = TfidfVectorizer(tokenizer=makeTokens)"
      ]
    },
    {
      "cell_type": "code",
      "execution_count": 16,
      "metadata": {
        "id": "T5sgBbZ-zVXe"
      },
      "outputs": [],
      "source": [
        "# Store vectors into X variable as Our XFeatures\n",
        "X = vectorizer.fit_transform(url_list)"
      ]
    },
    {
      "cell_type": "code",
      "execution_count": 17,
      "metadata": {
        "id": "ik6TQCUZzIN0"
      },
      "outputs": [],
      "source": [
        "X_train, X_test, y_train, y_test = train_test_split(X, y, test_size=0.2, random_state=42)"
      ]
    },
    {
      "cell_type": "code",
      "execution_count": 18,
      "metadata": {
        "colab": {
          "base_uri": "https://localhost:8080/"
        },
        "id": "DGHSTzZL0b2E",
        "outputId": "66cc6e72-31ff-41a7-f25e-e3c4dc24a9a6"
      },
      "outputs": [
        {
          "output_type": "stream",
          "name": "stdout",
          "text": [
            "(549346, 912674) (439476, 912674) (109870, 912674)\n"
          ]
        }
      ],
      "source": [
        "print(X.shape, X_train.shape, X_test.shape)"
      ]
    },
    {
      "cell_type": "code",
      "execution_count": 19,
      "metadata": {
        "id": "D-RI9zPVKyAP"
      },
      "outputs": [],
      "source": [
        "#Input = test data article\n",
        "test=[\"serviciosbys.com/paypal.cgi.bin.get-into.herf.secure.dispatch35463256rzr321654641dsf654321874/href/href/href/secure/center/update/limit/seccure/4d7a1ff5c55825a2e632a679c2fd5353/\"]"
      ]
    },
    {
      "cell_type": "markdown",
      "metadata": {
        "id": "5iSundqu0QfM"
      },
      "source": [
        "Training the Model"
      ]
    },
    {
      "cell_type": "markdown",
      "metadata": {
        "id": "YFOsFOzZJQ_w"
      },
      "source": [
        "**Logistic regression**"
      ]
    },
    {
      "cell_type": "code",
      "execution_count": 20,
      "metadata": {
        "colab": {
          "base_uri": "https://localhost:8080/"
        },
        "id": "fTWguZEgJGFx",
        "outputId": "b462600b-bd04-4eb0-d720-07839c78e150"
      },
      "outputs": [
        {
          "output_type": "stream",
          "name": "stderr",
          "text": [
            "/usr/local/lib/python3.7/dist-packages/sklearn/linear_model/_logistic.py:818: ConvergenceWarning: lbfgs failed to converge (status=1):\n",
            "STOP: TOTAL NO. of ITERATIONS REACHED LIMIT.\n",
            "\n",
            "Increase the number of iterations (max_iter) or scale the data as shown in:\n",
            "    https://scikit-learn.org/stable/modules/preprocessing.html\n",
            "Please also refer to the documentation for alternative solver options:\n",
            "    https://scikit-learn.org/stable/modules/linear_model.html#logistic-regression\n",
            "  extra_warning_msg=_LOGISTIC_SOLVER_CONVERGENCE_MSG,\n"
          ]
        },
        {
          "output_type": "execute_result",
          "data": {
            "text/plain": [
              "LogisticRegression()"
            ]
          },
          "metadata": {},
          "execution_count": 20
        }
      ],
      "source": [
        "from sklearn.linear_model import LogisticRegression\n",
        "# create lr object\n",
        "lr = LogisticRegression()\n",
        "lr.fit(X_train, y_train)"
      ]
    },
    {
      "cell_type": "code",
      "execution_count": 21,
      "metadata": {
        "colab": {
          "base_uri": "https://localhost:8080/"
        },
        "id": "NMfwy8qxJGUc",
        "outputId": "a9105875-4818-4d65-f079-51f97e153edd"
      },
      "outputs": [
        {
          "output_type": "stream",
          "name": "stdout",
          "text": [
            "Accuracy  0.9590971147720033\n"
          ]
        }
      ],
      "source": [
        "# Accuracy of Our Model with our Custom Token\n",
        "Accuracy= lr.score(X_test, y_test)\n",
        "print(\"Accuracy \",lr.score(X_test, y_test))"
      ]
    },
    {
      "cell_type": "markdown",
      "metadata": {
        "id": "91-XgaANsnt0"
      },
      "source": [
        "**Multinomial Naive Bayes**"
      ]
    },
    {
      "cell_type": "code",
      "execution_count": 22,
      "metadata": {
        "colab": {
          "base_uri": "https://localhost:8080/"
        },
        "id": "vfGYJHti0odb",
        "outputId": "634c6645-9e40-41a7-9584-8ae45e69e9f8"
      },
      "outputs": [
        {
          "output_type": "execute_result",
          "data": {
            "text/plain": [
              "MultinomialNB()"
            ]
          },
          "metadata": {},
          "execution_count": 22
        }
      ],
      "source": [
        "from sklearn.naive_bayes import MultinomialNB\n",
        "nb=MultinomialNB()\n",
        "nb.fit(X_train, y_train)"
      ]
    },
    {
      "cell_type": "code",
      "execution_count": 23,
      "metadata": {
        "id": "eEFa_JR52O7H"
      },
      "outputs": [],
      "source": [
        "from sklearn.metrics import classification_report, confusion_matrix, accuracy_score"
      ]
    },
    {
      "cell_type": "code",
      "execution_count": 24,
      "metadata": {
        "id": "ySvNyFLk20QU"
      },
      "outputs": [],
      "source": [
        "# accuracy score on the test data\n",
        "X_test_prediction = nb.predict(X_test)\n",
        "test_data_accuracy = accuracy_score(X_test_prediction, y_test)\n"
      ]
    },
    {
      "cell_type": "code",
      "execution_count": 25,
      "metadata": {
        "colab": {
          "base_uri": "https://localhost:8080/"
        },
        "id": "tsEhQRzWP2Yp",
        "outputId": "3c8ccc42-b54c-4a56-c322-4cc0cc087c20"
      },
      "outputs": [
        {
          "output_type": "stream",
          "name": "stdout",
          "text": [
            "Accuracy score of the test data :  0.9785018658414489\n"
          ]
        }
      ],
      "source": [
        "print('Accuracy score of the test data : ', test_data_accuracy)"
      ]
    },
    {
      "cell_type": "code",
      "execution_count": 25,
      "metadata": {
        "id": "BZ9OUMrCoDV2"
      },
      "outputs": [],
      "source": [
        ""
      ]
    },
    {
      "cell_type": "code",
      "execution_count": 26,
      "metadata": {
        "colab": {
          "base_uri": "https://localhost:8080/"
        },
        "id": "WskxGWVvoD71",
        "outputId": "d5211fb9-3eb7-435b-b235-ed4eb4492346"
      },
      "outputs": [
        {
          "output_type": "stream",
          "name": "stdout",
          "text": [
            "0\n"
          ]
        }
      ],
      "source": [
        "#Predictions form all the above algorithms are either 1 or 0 \n",
        "#where 1 denotes the real url and 0 denotes the fake url\n",
        "heva=int(Accuracy)+int(test_data_accuracy)\n",
        "#HEVA = Hybrid Ensembled Voting algorithm\n",
        "print(heva)"
      ]
    },
    {
      "cell_type": "code",
      "execution_count": 27,
      "metadata": {
        "colab": {
          "base_uri": "https://localhost:8080/"
        },
        "id": "gnYMCfWSo-vf",
        "outputId": "c89b6f53-1bf3-473c-bf67-5867bacf679c"
      },
      "outputs": [
        {
          "output_type": "stream",
          "name": "stdout",
          "text": [
            "phishing url\n"
          ]
        }
      ],
      "source": [
        "#if HEVA greater than or equal to 3 then REAL else FAKE\n",
        "news=\"\"\n",
        "if heva>=1:\n",
        "    news='real url'\n",
        "else:\n",
        "    news='phishing url'\n",
        "print(news)"
      ]
    },
    {
      "cell_type": "code",
      "execution_count": 28,
      "metadata": {
        "id": "eAPgjLUBpD9K"
      },
      "outputs": [],
      "source": [
        "from sklearn.ensemble import VotingClassifier\n",
        "#hard-vote:the predicted output class is a class with the highest majority of votes\n",
        "#soft-vote:the output class is the prediction based on the average of probability given to that class."
      ]
    },
    {
      "cell_type": "markdown",
      "metadata": {
        "id": "_3kF8djyoO-F"
      },
      "source": [
        "**1.Logestic Regression + MultinomialNB**"
      ]
    },
    {
      "cell_type": "code",
      "execution_count": 29,
      "metadata": {
        "id": "WvE9bFiWpEKK"
      },
      "outputs": [],
      "source": [
        "# group / ensemble of models \n",
        "estimator = [] \n",
        "estimator.append(('LR', LogisticRegression())) \n",
        "estimator.append(('NB', MultinomialNB(alpha=1.0, class_prior=None, fit_prior=True))) "
      ]
    },
    {
      "cell_type": "code",
      "execution_count": 30,
      "metadata": {
        "colab": {
          "base_uri": "https://localhost:8080/"
        },
        "id": "3IajTRRtpEUz",
        "outputId": "f6668964-d621-4691-87c7-a4e824ed5eb4"
      },
      "outputs": [
        {
          "output_type": "stream",
          "name": "stderr",
          "text": [
            "/usr/local/lib/python3.7/dist-packages/sklearn/linear_model/_logistic.py:818: ConvergenceWarning: lbfgs failed to converge (status=1):\n",
            "STOP: TOTAL NO. of ITERATIONS REACHED LIMIT.\n",
            "\n",
            "Increase the number of iterations (max_iter) or scale the data as shown in:\n",
            "    https://scikit-learn.org/stable/modules/preprocessing.html\n",
            "Please also refer to the documentation for alternative solver options:\n",
            "    https://scikit-learn.org/stable/modules/linear_model.html#logistic-regression\n",
            "  extra_warning_msg=_LOGISTIC_SOLVER_CONVERGENCE_MSG,\n"
          ]
        },
        {
          "output_type": "stream",
          "name": "stdout",
          "text": [
            "Hard Voting Score  0.9776736142714116\n"
          ]
        }
      ],
      "source": [
        "# Voting Classifier with hard voting \n",
        "vot_hard = VotingClassifier(estimators = estimator, voting ='hard') \n",
        "vot_hard.fit(X_train, y_train) \n",
        "y_pred = vot_hard.predict(X_test) \n",
        "  \n",
        "# using accuracy_score metric to predict accuracy \n",
        "score = accuracy_score(y_test,y_pred) \n",
        "print(\"Hard Voting Score \",score)"
      ]
    },
    {
      "cell_type": "code",
      "execution_count": 31,
      "metadata": {
        "colab": {
          "base_uri": "https://localhost:8080/"
        },
        "id": "OHmMSRygpfPD",
        "outputId": "f4898e37-d964-4ac1-88e9-ff33d1064a0f"
      },
      "outputs": [
        {
          "output_type": "stream",
          "name": "stderr",
          "text": [
            "/usr/local/lib/python3.7/dist-packages/sklearn/linear_model/_logistic.py:818: ConvergenceWarning: lbfgs failed to converge (status=1):\n",
            "STOP: TOTAL NO. of ITERATIONS REACHED LIMIT.\n",
            "\n",
            "Increase the number of iterations (max_iter) or scale the data as shown in:\n",
            "    https://scikit-learn.org/stable/modules/preprocessing.html\n",
            "Please also refer to the documentation for alternative solver options:\n",
            "    https://scikit-learn.org/stable/modules/linear_model.html#logistic-regression\n",
            "  extra_warning_msg=_LOGISTIC_SOLVER_CONVERGENCE_MSG,\n"
          ]
        },
        {
          "output_type": "stream",
          "name": "stdout",
          "text": [
            "Soft Voting Score  0.9719304632747793\n"
          ]
        }
      ],
      "source": [
        "# Voting Classifier with soft voting \n",
        "vot_soft = VotingClassifier(estimators = estimator, voting ='soft') \n",
        "vot_soft.fit(X_train,y_train) \n",
        "y_pred2 = vot_soft.predict(X_test)  \n",
        "\n",
        "# using accuracy_score \n",
        "score = accuracy_score(y_test, y_pred2) \n",
        "print(\"Soft Voting Score \",score)"
      ]
    },
    {
      "cell_type": "code",
      "execution_count": 32,
      "metadata": {
        "colab": {
          "base_uri": "https://localhost:8080/",
          "height": 525
        },
        "id": "clP1ZpAXvnIc",
        "outputId": "9236146d-8ead-4f1e-94f2-1635df1338fb"
      },
      "outputs": [
        {
          "output_type": "stream",
          "name": "stdout",
          "text": [
            "\n",
            "CLASSIFICATION REPORT\n",
            "\n",
            "              precision    recall  f1-score   support\n",
            "\n",
            "         Bad       0.95      0.97      0.96     30387\n",
            "        Good       0.99      0.98      0.98     79483\n",
            "\n",
            "    accuracy                           0.98    109870\n",
            "   macro avg       0.97      0.98      0.97    109870\n",
            "weighted avg       0.98      0.98      0.98    109870\n",
            "\n",
            "\n",
            "CONFUSION MATRIX\n"
          ]
        },
        {
          "output_type": "execute_result",
          "data": {
            "text/plain": [
              "<matplotlib.axes._subplots.AxesSubplot at 0x7fe75a8f2dd0>"
            ]
          },
          "metadata": {},
          "execution_count": 32
        },
        {
          "output_type": "display_data",
          "data": {
            "text/plain": [
              "<Figure size 432x288 with 2 Axes>"
            ],
            "image/png": "[encoded data removed]"
          },
          "metadata": {}
        }
      ],
      "source": [
        "con_mat = pd.DataFrame(confusion_matrix(vot_hard.predict(X_test), y_test),\n",
        "            columns = ['Predicted:Bad', 'Predicted:Good'],\n",
        "            index = ['Actual:Bad', 'Actual:Good'])\n",
        "\n",
        "\n",
        "print('\\nCLASSIFICATION REPORT\\n')\n",
        "print(classification_report(vot_hard.predict(X_test), y_test,\n",
        "                            target_names =['Bad','Good']))\n",
        "\n",
        "print('\\nCONFUSION MATRIX')\n",
        "plt.figure(figsize= (6,4))\n",
        "sns.heatmap(con_mat, annot = True,fmt='d',cmap=\"YlGnBu\")"
      ]
    },
    {
      "cell_type": "markdown",
      "metadata": {
        "id": "ay8JjHdmv4eW"
      },
      "source": [
        "**Decision Tree**"
      ]
    },
    {
      "cell_type": "code",
      "execution_count": 33,
      "metadata": {
        "colab": {
          "base_uri": "https://localhost:8080/"
        },
        "id": "Gk7wyG9etNhV",
        "outputId": "8dd7034c-3b90-4a16-e559-b720677b22f6"
      },
      "outputs": [
        {
          "output_type": "execute_result",
          "data": {
            "text/plain": [
              "DecisionTreeClassifier(max_depth=5)"
            ]
          },
          "metadata": {},
          "execution_count": 33
        }
      ],
      "source": [
        "# instantiate the model \n",
        "tree = DecisionTreeClassifier(max_depth = 5)\n",
        "# fit the model \n",
        "tree.fit(X_train, y_train)"
      ]
    },
    {
      "cell_type": "code",
      "execution_count": 34,
      "metadata": {
        "id": "bsucHkV5vXuM"
      },
      "outputs": [],
      "source": [
        "# accuracy score on the test data\n",
        "X_test_prediction = tree.predict(X_test)\n",
        "test_data_accuracy = accuracy_score(X_test_prediction, y_test)"
      ]
    },
    {
      "cell_type": "code",
      "execution_count": 35,
      "metadata": {
        "colab": {
          "base_uri": "https://localhost:8080/"
        },
        "id": "2gBemHuSvcRD",
        "outputId": "fcec712d-e0ae-460e-caad-ab6d52fdbc2b"
      },
      "outputs": [
        {
          "output_type": "stream",
          "name": "stdout",
          "text": [
            "Accuracy score of the test data :  0.8001820333120961\n"
          ]
        }
      ],
      "source": [
        "print('Accuracy score of the test data : ', test_data_accuracy)"
      ]
    },
    {
      "cell_type": "markdown",
      "metadata": {
        "id": "hS98sTMdodJQ"
      },
      "source": [
        ""
      ]
    },
    {
      "cell_type": "markdown",
      "metadata": {
        "id": "2TeiuXlvwJO_"
      },
      "source": [
        "**Random Forest**"
      ]
    },
    {
      "cell_type": "code",
      "execution_count": 36,
      "metadata": {
        "colab": {
          "base_uri": "https://localhost:8080/"
        },
        "id": "E2tiMkdYd0oM",
        "outputId": "d3e3ebfd-f7e3-4ae1-b237-11cf9253d2f4"
      },
      "outputs": [
        {
          "output_type": "execute_result",
          "data": {
            "text/plain": [
              "RandomForestClassifier(max_depth=5)"
            ]
          },
          "metadata": {},
          "execution_count": 36
        }
      ],
      "source": [
        "# Random Forest model\n",
        "from sklearn.ensemble import RandomForestClassifier\n",
        "\n",
        "# instantiate the model\n",
        "forest = RandomForestClassifier(max_depth=5)\n",
        "\n",
        "# fit the model \n",
        "forest.fit(X_train, y_train)"
      ]
    },
    {
      "cell_type": "code",
      "execution_count": 37,
      "metadata": {
        "id": "oOyyUsnNd0yT"
      },
      "outputs": [],
      "source": [
        "X_test_prediction = forest.predict(X_test)\n",
        "test_data_accuracy = accuracy_score(X_test_prediction, y_test)"
      ]
    },
    {
      "cell_type": "code",
      "execution_count": 38,
      "metadata": {
        "colab": {
          "base_uri": "https://localhost:8080/"
        },
        "id": "Q5tu3mi7d085",
        "outputId": "483b29f8-4a91-4370-8353-de4fde005d2f"
      },
      "outputs": [
        {
          "output_type": "stream",
          "name": "stdout",
          "text": [
            "Accuracy score of the test data :  0.7160280331300628\n"
          ]
        }
      ],
      "source": [
        "print('Accuracy score of the test data : ', test_data_accuracy)"
      ]
    },
    {
      "cell_type": "markdown",
      "metadata": {
        "id": "RiJFyf-Dw0CC"
      },
      "source": [
        "**Decision Tree + Random Forest**"
      ]
    },
    {
      "cell_type": "code",
      "execution_count": 39,
      "metadata": {
        "id": "bqDQb0RowubO"
      },
      "outputs": [],
      "source": [
        "# group / ensemble of models \n",
        "estimator2 = [] \n",
        "estimator2.append(('tree',DecisionTreeClassifier(max_depth = 5))) \n",
        "estimator2.append(('forest', RandomForestClassifier(max_depth=5))) "
      ]
    },
    {
      "cell_type": "code",
      "execution_count": 40,
      "metadata": {
        "colab": {
          "base_uri": "https://localhost:8080/"
        },
        "id": "kn5AH2NZxY6Q",
        "outputId": "a556b127-dc0a-49df-9426-46a2b223b315"
      },
      "outputs": [
        {
          "output_type": "stream",
          "name": "stdout",
          "text": [
            "Hard Voting Score  0.8001820333120961\n"
          ]
        }
      ],
      "source": [
        "# Voting Classifier with hard voting \n",
        "vot_hard = VotingClassifier(estimators = estimator2, voting ='hard') \n",
        "vot_hard.fit(X_train, y_train) \n",
        "y_pred = vot_hard.predict(X_test) \n",
        "  \n",
        "# using accuracy_score metric to predict accuracy \n",
        "score = accuracy_score(y_test,y_pred) \n",
        "print(\"Hard Voting Score \",score)"
      ]
    },
    {
      "cell_type": "code",
      "execution_count": 41,
      "metadata": {
        "id": "Tf1dNoEdzDil",
        "colab": {
          "base_uri": "https://localhost:8080/"
        },
        "outputId": "9fe28c15-c84a-4601-a965-d75bc0c2ef60"
      },
      "outputs": [
        {
          "output_type": "stream",
          "name": "stdout",
          "text": [
            "Soft Voting Score  0.7925639392008738\n"
          ]
        }
      ],
      "source": [
        "# Voting Classifier with soft voting \n",
        "vot_soft = VotingClassifier(estimators = estimator2, voting ='soft') \n",
        "vot_soft.fit(X_train,y_train) \n",
        "y_pred2 = vot_soft.predict(X_test)  \n",
        "\n",
        "# using accuracy_score \n",
        "score = accuracy_score(y_test, y_pred2) \n",
        "print(\"Soft Voting Score \",score)"
      ]
    },
    {
      "cell_type": "code",
      "execution_count": 42,
      "metadata": {
        "id": "A7w_nWdtzOlc",
        "colab": {
          "base_uri": "https://localhost:8080/",
          "height": 525
        },
        "outputId": "59eead34-1450-42dc-87b4-e6891ba8d820"
      },
      "outputs": [
        {
          "output_type": "stream",
          "name": "stdout",
          "text": [
            "\n",
            "CLASSIFICATION REPORT\n",
            "\n",
            "              precision    recall  f1-score   support\n",
            "\n",
            "         Bad       0.33      0.91      0.48     11232\n",
            "        Good       0.99      0.79      0.88     98638\n",
            "\n",
            "    accuracy                           0.80    109870\n",
            "   macro avg       0.66      0.85      0.68    109870\n",
            "weighted avg       0.92      0.80      0.84    109870\n",
            "\n",
            "\n",
            "CONFUSION MATRIX FOR DT+RF\n"
          ]
        },
        {
          "output_type": "execute_result",
          "data": {
            "text/plain": [
              "<matplotlib.axes._subplots.AxesSubplot at 0x7fe73a87f290>"
            ]
          },
          "metadata": {},
          "execution_count": 42
        },
        {
          "output_type": "display_data",
          "data": {
            "text/plain": [
              "<Figure size 432x288 with 2 Axes>"
            ],
            "image/png": "[encoded data removed]"
          },
          "metadata": {}
        }
      ],
      "source": [
        "con_mat = pd.DataFrame(confusion_matrix(vot_hard.predict(X_test), y_test),\n",
        "            columns = ['Predicted:Bad', 'Predicted:Good'],\n",
        "            index = ['Actual:Bad', 'Actual:Good'])\n",
        "\n",
        "\n",
        "print('\\nCLASSIFICATION REPORT\\n')\n",
        "print(classification_report(vot_hard.predict(X_test), y_test,\n",
        "                            target_names =['Bad','Good']))\n",
        "\n",
        "print('\\nCONFUSION MATRIX FOR DT+RF')\n",
        "plt.figure(figsize= (6,4))\n",
        "sns.heatmap(con_mat, annot = True,fmt='d',cmap=\"YlGnBu\")"
      ]
    }
  ],
  "metadata": {
    "accelerator": "GPU",
    "colab": {
      "collapsed_sections": [],
      "name": "hybrid algo (LR,Naive Bayes).ipynb",
      "toc_visible": true,
      "provenance": [],
      "include_colab_link": true
    },
    "kernelspec": {
      "display_name": "Python 3",
      "name": "python3"
    },
    "language_info": {
      "name": "python"
    }
  },
  "nbformat": 4,
  "nbformat_minor": 0
}