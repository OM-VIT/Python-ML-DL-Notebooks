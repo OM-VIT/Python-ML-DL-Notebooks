{
  "cells": [
    {
      "cell_type": "markdown",
      "metadata": {
        "id": "view-in-github",
        "colab_type": "text"
      },
      "source": [
        "<a href=\"https://colab.research.google.com/github/OM-VIT/Python-ML-DL-Notebooks/blob/main/Sentiment_Analysis_Of_Covid19.ipynb\" target=\"_parent\"><img src=\"https://colab.research.google.com/assets/colab-badge.svg\" alt=\"Open In Colab\"/></a>"
      ]
    },
    {
      "cell_type": "markdown",
      "id": "comfortable-biology",
      "metadata": {
        "id": "comfortable-biology"
      },
      "source": [
        "### Sentiment Analysis Of Covid19 Tweets\n",
        "\n",
        "\n",
        "#### Task\n",
        "+ Text Preprocessing\n",
        "+ Sentiment Analysis\n",
        "+ Keyword Extraction\n",
        "\n",
        "\n"
      ]
    },
    {
      "cell_type": "code",
      "execution_count": null,
      "id": "electronic-ceramic",
      "metadata": {
        "id": "electronic-ceramic"
      },
      "outputs": [],
      "source": [
        "### EDA Pkgs\n",
        "import pandas as pd"
      ]
    },
    {
      "cell_type": "code",
      "execution_count": null,
      "id": "promotional-literacy",
      "metadata": {
        "id": "promotional-literacy"
      },
      "outputs": [],
      "source": [
        "# Data Viz Pkg\n",
        "import matplotlib.pyplot as plt\n",
        "import seaborn as sns"
      ]
    },
    {
      "cell_type": "code",
      "execution_count": null,
      "id": "defined-alignment",
      "metadata": {
        "id": "defined-alignment"
      },
      "outputs": [],
      "source": [
        "# Hide warnings\n",
        "import warnings\n",
        "warnings.filterwarnings('ignore')"
      ]
    },
    {
      "cell_type": "code",
      "source": [
        "from google.colab import drive\n",
        "drive.mount('/content/drive')"
      ],
      "metadata": {
        "colab": {
          "base_uri": "https://localhost:8080/"
        },
        "id": "aVw0lJIwPTw0",
        "outputId": "740230f9-7704-48b2-a29a-c328efb8b865"
      },
      "id": "aVw0lJIwPTw0",
      "execution_count": null,
      "outputs": [
        {
          "output_type": "stream",
          "name": "stdout",
          "text": [
            "Mounted at /content/drive\n"
          ]
        }
      ]
    },
    {
      "cell_type": "code",
      "execution_count": null,
      "id": "entertaining-perth",
      "metadata": {
        "id": "entertaining-perth"
      },
      "outputs": [],
      "source": [
        "# Load Dataset\n",
        "df = pd.read_csv(\"/content/drive/MyDrive/covid19_tweets.csv\")"
      ]
    },
    {
      "cell_type": "code",
      "execution_count": null,
      "id": "bound-marsh",
      "metadata": {
        "colab": {
          "base_uri": "https://localhost:8080/",
          "height": 496
        },
        "id": "bound-marsh",
        "outputId": "ecf1d0a9-8c50-424c-fce5-167e9b4c5a9b"
      },
      "outputs": [
        {
          "output_type": "execute_result",
          "data": {
            "text/html": [
              "\n",
              "  <div id=\"df-dda8ea82-b809-4b02-b4c3-8235e54645fb\">\n",
              "    <div class=\"colab-df-container\">\n",
              "      <div>\n",
              "<style scoped>\n",
              "    .dataframe tbody tr th:only-of-type {\n",
              "        vertical-align: middle;\n",
              "    }\n",
              "\n",
              "    .dataframe tbody tr th {\n",
              "        vertical-align: top;\n",
              "    }\n",
              "\n",
              "    .dataframe thead th {\n",
              "        text-align: right;\n",
              "    }\n",
              "</style>\n",
              "<table border=\"1\" class=\"dataframe\">\n",
              "  <thead>\n",
              "    <tr style=\"text-align: right;\">\n",
              "      <th></th>\n",
              "      <th>user_name</th>\n",
              "      <th>user_location</th>\n",
              "      <th>user_description</th>\n",
              "      <th>user_created</th>\n",
              "      <th>user_followers</th>\n",
              "      <th>user_friends</th>\n",
              "      <th>user_favourites</th>\n",
              "      <th>user_verified</th>\n",
              "      <th>date</th>\n",
              "      <th>text</th>\n",
              "      <th>hashtags</th>\n",
              "      <th>source</th>\n",
              "      <th>is_retweet</th>\n",
              "    </tr>\n",
              "  </thead>\n",
              "  <tbody>\n",
              "    <tr>\n",
              "      <th>0</th>\n",
              "      <td>ᏉᎥ☻լꂅϮ</td>\n",
              "      <td>astroworld</td>\n",
              "      <td>wednesday addams as a disney princess keepin i...</td>\n",
              "      <td>2017-05-26 05:46:42</td>\n",
              "      <td>624</td>\n",
              "      <td>950</td>\n",
              "      <td>18775</td>\n",
              "      <td>False</td>\n",
              "      <td>2020-07-25 12:27:21</td>\n",
              "      <td>If I smelled the scent of hand sanitizers toda...</td>\n",
              "      <td>NaN</td>\n",
              "      <td>Twitter for iPhone</td>\n",
              "      <td>False</td>\n",
              "    </tr>\n",
              "    <tr>\n",
              "      <th>1</th>\n",
              "      <td>Tom Basile 🇺🇸</td>\n",
              "      <td>New York, NY</td>\n",
              "      <td>Husband, Father, Columnist &amp; Commentator. Auth...</td>\n",
              "      <td>2009-04-16 20:06:23</td>\n",
              "      <td>2253</td>\n",
              "      <td>1677</td>\n",
              "      <td>24</td>\n",
              "      <td>True</td>\n",
              "      <td>2020-07-25 12:27:17</td>\n",
              "      <td>Hey @Yankees @YankeesPR and @MLB - wouldn't it...</td>\n",
              "      <td>NaN</td>\n",
              "      <td>Twitter for Android</td>\n",
              "      <td>False</td>\n",
              "    </tr>\n",
              "    <tr>\n",
              "      <th>2</th>\n",
              "      <td>Time4fisticuffs</td>\n",
              "      <td>Pewee Valley, KY</td>\n",
              "      <td>#Christian #Catholic #Conservative #Reagan #Re...</td>\n",
              "      <td>2009-02-28 18:57:41</td>\n",
              "      <td>9275</td>\n",
              "      <td>9525</td>\n",
              "      <td>7254</td>\n",
              "      <td>False</td>\n",
              "      <td>2020-07-25 12:27:14</td>\n",
              "      <td>@diane3443 @wdunlap @realDonaldTrump Trump nev...</td>\n",
              "      <td>['COVID19']</td>\n",
              "      <td>Twitter for Android</td>\n",
              "      <td>False</td>\n",
              "    </tr>\n",
              "    <tr>\n",
              "      <th>3</th>\n",
              "      <td>ethel mertz</td>\n",
              "      <td>Stuck in the Middle</td>\n",
              "      <td>#Browns #Indians #ClevelandProud #[]_[] #Cavs ...</td>\n",
              "      <td>2019-03-07 01:45:06</td>\n",
              "      <td>197</td>\n",
              "      <td>987</td>\n",
              "      <td>1488</td>\n",
              "      <td>False</td>\n",
              "      <td>2020-07-25 12:27:10</td>\n",
              "      <td>@brookbanktv The one gift #COVID19 has give me...</td>\n",
              "      <td>['COVID19']</td>\n",
              "      <td>Twitter for iPhone</td>\n",
              "      <td>False</td>\n",
              "    </tr>\n",
              "    <tr>\n",
              "      <th>4</th>\n",
              "      <td>DIPR-J&amp;K</td>\n",
              "      <td>Jammu and Kashmir</td>\n",
              "      <td>🖊️Official Twitter handle of Department of Inf...</td>\n",
              "      <td>2017-02-12 06:45:15</td>\n",
              "      <td>101009</td>\n",
              "      <td>168</td>\n",
              "      <td>101</td>\n",
              "      <td>False</td>\n",
              "      <td>2020-07-25 12:27:08</td>\n",
              "      <td>25 July : Media Bulletin on Novel #CoronaVirus...</td>\n",
              "      <td>['CoronaVirusUpdates', 'COVID19']</td>\n",
              "      <td>Twitter for Android</td>\n",
              "      <td>False</td>\n",
              "    </tr>\n",
              "  </tbody>\n",
              "</table>\n",
              "</div>\n",
              "      <button class=\"colab-df-convert\" onclick=\"convertToInteractive('df-dda8ea82-b809-4b02-b4c3-8235e54645fb')\"\n",
              "              title=\"Convert this dataframe to an interactive table.\"\n",
              "              style=\"display:none;\">\n",
              "        \n",
              "  <svg xmlns=\"http://www.w3.org/2000/svg\" height=\"24px\"viewBox=\"0 0 24 24\"\n",
              "       width=\"24px\">\n",
              "    <path d=\"M0 0h24v24H0V0z\" fill=\"none\"/>\n",
              "    <path d=\"M18.56 5.44l.94 2.06.94-2.06 2.06-.94-2.06-.94-.94-2.06-.94 2.06-2.06.94zm-11 1L8.5 8.5l.94-2.06 2.06-.94-2.06-.94L8.5 2.5l-.94 2.06-2.06.94zm10 10l.94 2.06.94-2.06 2.06-.94-2.06-.94-.94-2.06-.94 2.06-2.06.94z\"/><path d=\"M17.41 7.96l-1.37-1.37c-.4-.4-.92-.59-1.43-.59-.52 0-1.04.2-1.43.59L10.3 9.45l-7.72 7.72c-.78.78-.78 2.05 0 2.83L4 21.41c.39.39.9.59 1.41.59.51 0 1.02-.2 1.41-.59l7.78-7.78 2.81-2.81c.8-.78.8-2.07 0-2.86zM5.41 20L4 18.59l7.72-7.72 1.47 1.35L5.41 20z\"/>\n",
              "  </svg>\n",
              "      </button>\n",
              "      \n",
              "  <style>\n",
              "    .colab-df-container {\n",
              "      display:flex;\n",
              "      flex-wrap:wrap;\n",
              "      gap: 12px;\n",
              "    }\n",
              "\n",
              "    .colab-df-convert {\n",
              "      background-color: #E8F0FE;\n",
              "      border: none;\n",
              "      border-radius: 50%;\n",
              "      cursor: pointer;\n",
              "      display: none;\n",
              "      fill: #1967D2;\n",
              "      height: 32px;\n",
              "      padding: 0 0 0 0;\n",
              "      width: 32px;\n",
              "    }\n",
              "\n",
              "    .colab-df-convert:hover {\n",
              "      background-color: #E2EBFA;\n",
              "      box-shadow: 0px 1px 2px rgba(60, 64, 67, 0.3), 0px 1px 3px 1px rgba(60, 64, 67, 0.15);\n",
              "      fill: #174EA6;\n",
              "    }\n",
              "\n",
              "    [theme=dark] .colab-df-convert {\n",
              "      background-color: #3B4455;\n",
              "      fill: #D2E3FC;\n",
              "    }\n",
              "\n",
              "    [theme=dark] .colab-df-convert:hover {\n",
              "      background-color: #434B5C;\n",
              "      box-shadow: 0px 1px 3px 1px rgba(0, 0, 0, 0.15);\n",
              "      filter: drop-shadow(0px 1px 2px rgba(0, 0, 0, 0.3));\n",
              "      fill: #FFFFFF;\n",
              "    }\n",
              "  </style>\n",
              "\n",
              "      <script>\n",
              "        const buttonEl =\n",
              "          document.querySelector('#df-dda8ea82-b809-4b02-b4c3-8235e54645fb button.colab-df-convert');\n",
              "        buttonEl.style.display =\n",
              "          google.colab.kernel.accessAllowed ? 'block' : 'none';\n",
              "\n",
              "        async function convertToInteractive(key) {\n",
              "          const element = document.querySelector('#df-dda8ea82-b809-4b02-b4c3-8235e54645fb');\n",
              "          const dataTable =\n",
              "            await google.colab.kernel.invokeFunction('convertToInteractive',\n",
              "                                                     [key], {});\n",
              "          if (!dataTable) return;\n",
              "\n",
              "          const docLinkHtml = 'Like what you see? Visit the ' +\n",
              "            '<a target=\"_blank\" href=https://colab.research.google.com/notebooks/data_table.ipynb>data table notebook</a>'\n",
              "            + ' to learn more about interactive tables.';\n",
              "          element.innerHTML = '';\n",
              "          dataTable['output_type'] = 'display_data';\n",
              "          await google.colab.output.renderOutput(dataTable, element);\n",
              "          const docLink = document.createElement('div');\n",
              "          docLink.innerHTML = docLinkHtml;\n",
              "          element.appendChild(docLink);\n",
              "        }\n",
              "      </script>\n",
              "    </div>\n",
              "  </div>\n",
              "  "
            ],
            "text/plain": [
              "         user_name         user_location  ...               source is_retweet\n",
              "0           ᏉᎥ☻լꂅϮ            astroworld  ...   Twitter for iPhone      False\n",
              "1    Tom Basile 🇺🇸          New York, NY  ...  Twitter for Android      False\n",
              "2  Time4fisticuffs      Pewee Valley, KY  ...  Twitter for Android      False\n",
              "3      ethel mertz  Stuck in the Middle   ...   Twitter for iPhone      False\n",
              "4         DIPR-J&K     Jammu and Kashmir  ...  Twitter for Android      False\n",
              "\n",
              "[5 rows x 13 columns]"
            ]
          },
          "metadata": {},
          "execution_count": 6
        }
      ],
      "source": [
        "# Preview\n",
        "df.head()"
      ]
    },
    {
      "cell_type": "markdown",
      "id": "contrary-seattle",
      "metadata": {
        "id": "contrary-seattle"
      },
      "source": [
        "#### Task\n",
        "+ Text\n",
        "    - Text Preprocessing\n",
        "    - Sentiment Analysis\n",
        "    - Keyword Extraction\n",
        "   "
      ]
    },
    {
      "cell_type": "code",
      "execution_count": null,
      "id": "involved-essex",
      "metadata": {
        "colab": {
          "base_uri": "https://localhost:8080/"
        },
        "id": "involved-essex",
        "outputId": "26863402-a1af-47dc-ce0d-9e8d7df574c8"
      },
      "outputs": [
        {
          "output_type": "execute_result",
          "data": {
            "text/plain": [
              "Index(['user_name', 'user_location', 'user_description', 'user_created',\n",
              "       'user_followers', 'user_friends', 'user_favourites', 'user_verified',\n",
              "       'date', 'text', 'hashtags', 'source', 'is_retweet'],\n",
              "      dtype='object')"
            ]
          },
          "metadata": {},
          "execution_count": 7
        }
      ],
      "source": [
        "# Check Columns\n",
        "df.columns"
      ]
    },
    {
      "cell_type": "code",
      "execution_count": null,
      "id": "pleasant-bloom",
      "metadata": {
        "colab": {
          "base_uri": "https://localhost:8080/"
        },
        "id": "pleasant-bloom",
        "outputId": "817cf768-61df-4ebf-9289-8d6eb6a31594"
      },
      "outputs": [
        {
          "output_type": "execute_result",
          "data": {
            "text/plain": [
              "user_name           object\n",
              "user_location       object\n",
              "user_description    object\n",
              "user_created        object\n",
              "user_followers       int64\n",
              "user_friends         int64\n",
              "user_favourites      int64\n",
              "user_verified         bool\n",
              "date                object\n",
              "text                object\n",
              "hashtags            object\n",
              "source              object\n",
              "is_retweet            bool\n",
              "dtype: object"
            ]
          },
          "metadata": {},
          "execution_count": 8
        }
      ],
      "source": [
        "# Datatype\n",
        "df.dtypes"
      ]
    },
    {
      "cell_type": "code",
      "execution_count": null,
      "id": "individual-people",
      "metadata": {
        "collapsed": true,
        "jupyter": {
          "outputs_hidden": true
        },
        "tags": [],
        "colab": {
          "base_uri": "https://localhost:8080/"
        },
        "id": "individual-people",
        "outputId": "2ba955d3-e57c-4eae-f749-ae393b2d8309"
      },
      "outputs": [
        {
          "output_type": "execute_result",
          "data": {
            "text/plain": [
              "array(['Twitter for iPhone', 'Twitter for Android', 'Twitter Web App',\n",
              "       'Buffer', 'TweetDeck', 'Twitter for iPad', 'Africa Newsroom',\n",
              "       'Blood Donors India', 'TweetCaster for Android',\n",
              "       'Alexander Higgins', 'IFTTT', 'Hootsuite Inc.', 'Sprout Social',\n",
              "       'Sprinklr', 'assarofficial', 'IAMBLOG2TWITTER', 'CrowdControlHQ',\n",
              "       'COVID19-Updates', 'EveryoneSocial', 'Dynamic Signal', 'Instagram',\n",
              "       'TweetCaster for iOS', 'GlobalPandemic.NET', 'Venrap Radio',\n",
              "       'HeyOrca', 'Twitter for Advertisers', 'Paper.li',\n",
              "       'Twitter Media Studio', 'Twitter for Mac', 'dlvr.it',\n",
              "       'Cheap Bots, Done Quick!', 'Prof. Shanku', 'LaterMedia',\n",
              "       'SEMrush Social Media Tool', 'Twitterrific for iOS',\n",
              "       \"Sebastian's Twitter Bot\", 'Threader_client', 'COVID19FactoidBot',\n",
              "       'PwC UK SMART', 'tweet pro stiff', 'UK COVID-19 Alerts',\n",
              "       'Resistbot Open Letters', 'preprint-alert', 'ContentStudio.io',\n",
              "       'Peeping Moon', 'TweetAutomaticos', 'Orlo', 'AgoraPulse Manager',\n",
              "       'Meltwater Social', 'Blog2Social APP',\n",
              "       'Social Genie by Brighter Vision', 'Social Media Publisher App ',\n",
              "       'VoiceToData', 'Hearsay Social', 'Metricool', 'SocialPilot.co',\n",
              "       'Loomly', 'Оwly', 'Facelift-Cloud', 'Khoros', 'Oktopost',\n",
              "       'coronaData_Test', 'SocialOomph', 'SmarterQueue',\n",
              "       'Salesforce - Social Studio', 'Twittimer', 'Dolar Değişti!',\n",
              "       'COVID19 Update', 'LinkedIn', 'Socialbakers',\n",
              "       'Bambu by Sprout Social', 'HubSpot', 'National Herald',\n",
              "       'Twitter Ads', 'twootlk', 'WordPress.com',\n",
              "       'Twitter Media Studio - LiveCut', 'Covid-19 Bot',\n",
              "       'Tweetbot for iΟS', 'Zoho Social', 'Mobile Web (M2)',\n",
              "       'Global Citizen Mobile App', 'whatSaoCarlos', 'Tweetbot for Mac',\n",
              "       'FS Poster', 'rate_twitte', 'corona-recoveries',\n",
              "       'The Social Jukebox', 'ContentCal Studio', 'OneUp App',\n",
              "       'Promo.com', 'TopHashtags', 'autotweet scheduler', 'NepalCorona',\n",
              "       'Khoros Marketing', 'Hocalwire Social Share', 'DataScienceInfo',\n",
              "       'crystalwind.ca', 'SNAP-Homeless Times',\n",
              "       'COVID-19 Information Bot', 'eMartmarket', 'trackingbot2020',\n",
              "       'MeetEdgar', 'Twidere for Android', 'econ b2b post', 'Aleph א ',\n",
              "       'SocialBee.io v2', 'Spreaker', 'ExanteData Robots', 'Mention\\xa0',\n",
              "       'Sked Social', 'Periscope', 'CoronaVirus Bot by Sloth',\n",
              "       'dailyindia', 'Tweet Suite', 'SurveyCircle Team', 'PTI_Tweets',\n",
              "       'Swat.io', 'Restream.io', 'Powered by Sprinklr', 'GT_Backend',\n",
              "       'HN_Comments', '@thedextazlab', 'China Xinhua News', 'ArmeniaITN',\n",
              "       'Crowdfire App', 'Microsoft Power Platform', 'Bitly', 'Echofon',\n",
              "       'Ripl App', 'WPwamnwebsitescript', 'corona_stats',\n",
              "       'CoronaTrackerMY', 'The Tweeted Times', 'Qureet Leads',\n",
              "       'Threat Intel Hub', 'My Khel', 'Falcon Social Media Management ',\n",
              "       'Zapier.com', 'Echobox', 'Scoop.it', 'SocialRabbit Plugin',\n",
              "       'covid19_tracker', 'Cubi.so', 'SocialChamp IO ', 'twittbot.net',\n",
              "       'pixiv: Post to Twitter', 'drumup.io', 'mpsontwitter.co.uk',\n",
              "       'Covid19daily', 'SocialFlow', 'Vattel Tracker Dev',\n",
              "       'Radio.co now playing', 'POST.it - Edit,Share,Rediscover',\n",
              "       'SocialNewsDesk', nan, 'Phone2Action', 'tweeter_biases',\n",
              "       'Heropost', 'rhega.net', 'Nuzzel', 'DR Data', 'Seket Aanru LVLII',\n",
              "       'Grabyo', 'sphere_ja_bot', 'Wildmoka', 'TrackerCV',\n",
              "       \"iContact's Social Tools\", 'Igorotage', 'HWD', 'Mailchimp',\n",
              "       'Sprinklr Publishing', 'Integromat', 'Fabrik.fm',\n",
              "       'Clearview Social, Inc.', 'Friends Me', 'Stuffed Productions',\n",
              "       'Revive Social App', 'Flamingo for Android',\n",
              "       'Microsoft Azure Logic Apps', 'MavSocial App', 'Smarp.',\n",
              "       'UberSocial for Android', 'Missinglettr', 'Canva', 'Talon Android',\n",
              "       'Konnect Social', 'Siargao Guide', 'PinkVilla', 'Penname',\n",
              "       'Kashmir Life', \"Monty's Twitter Reposter\", 'SnapStream TV Search',\n",
              "       'WatchDog Uganda', 'True Anthem', 'MarketingSuite', 'Corona-Stats',\n",
              "       'Twitter for  iPhone', 'Social Head', 'BookClubProTweet',\n",
              "       'covid19_counter', 'PromoRepublic', 'PolitiHUB.us', 'Raven Tools',\n",
              "       'COVID19-Tweet', 'Cancer Health Auto Tweet', 'remote.io',\n",
              "       'Arena.im', 'Isrg', 'Constant Contact', 'Google', 'VegaLms',\n",
              "       'DTR Auto Post', 'CoSchedule', 'COVID19 Daily Stats', 'CovidDay',\n",
              "       'COVID-19MX', 'SmartNews | スマートニュース', 'Spire FM', 'eClincher',\n",
              "       'Typepad', 'Publer ', 'Botbird tweets', 'shankar_live_bot',\n",
              "       'Shauntv', \"Bob's Python tweetbot\", 'Sprinklr Publisher',\n",
              "       'Commun.it Intelligence', 'Nintendo Switch Share',\n",
              "       \"Stalin's Twitter Reposter\", 'WeVideo', 'recurpost.com',\n",
              "       'El Cañonazo de las 9', 'Tweetings for Android', 'JoinDiaspora',\n",
              "       'Post Planner Inc.', 'DopeyUncle2', 'COVIDRecoveredBot',\n",
              "       'Qnary.io', 'Canada Covid-19 Stats', 'Twitter Test App P',\n",
              "       'Nelio Content', 'PlayStation®Network', 'Covid19_MV',\n",
              "       'Postcron App', 'TtwTimes Top News', 'Chicken Nugget',\n",
              "       'Plume\\xa0for\\xa0Android', 'Fenix 2', 'ETRetail.com',\n",
              "       'Campaign Share', 'Postfity.com', 'newsgovhk', 'Sociality.io',\n",
              "       'Echofon  Android', \"Rumpet's Twitter Poster\", 'PostBeyond',\n",
              "       'dnh twitter publisher', 'news_by_gatfil', 'Pardot',\n",
              "       'App for IconicHipster.com', 'CovidUpdatesBot', 'KhuramKTS',\n",
              "       'NIAAuto', 'fovle', 'Imminent News', 'PublishBestNews',\n",
              "       'LFALSNAPAP', 'HW news english', 'StreamElements',\n",
              "       'Mediaproxy LogJam', 'dancehallaudio',\n",
              "       'Liberal Forum Political Chat', 'NippyTweet',\n",
              "       'That Best Home Automation', 'Dear_Assistant', 'Bot Libre!',\n",
              "       'NCoV-19 Tracker', 'tprzechlewski.app', 'DataBlogger',\n",
              "       'POZ Auto Tweet', 'SocialDog for Twitter', 'AtlantaTechBlogs',\n",
              "       'ReadyForSocial App', 'Traject Social', 'abrbuzz',\n",
              "       'Auto-Post (IMW)', 'ME Construction News', 'NetNaija Twiit',\n",
              "       'TrafficChiefNG', 'EUobserver', 'Flote.app', 'aa.com.tr',\n",
              "       'Twitterrific for Mac', 'Bizcommunity.com', 'Covid Robot',\n",
              "       'VoxPop Sync', 'stocktitan', 'StockTwits Web', 'Dr. Kill Pain',\n",
              "       'SociabbleApp', 'Post to Social by SHIFT1', 'PRNewswire',\n",
              "       'Hep Auto Tweet', 'Chorus publishing platform',\n",
              "       'masterdebater.net', 'A Touch of Snark', 'Login CricketCountry',\n",
              "       \"Let's Talk Singapore\", 'RiteKit', 'Etsy', 'Zlappo.com',\n",
              "       'DirectorsTalk Auto Posting', 'GlobalVillageSpace',\n",
              "       'TeamSight Publisher', 'naalikeram', 'Amplifr', 'News Medical',\n",
              "       'Agenparl', 'Hacker Noon', 'Salsa Social Publishing', 'feedspora2',\n",
              "       'Tech_Tee_Shop', 'CensoredTodayPoster', 'Tumblr', 'Weebly App',\n",
              "       'science faction twitter bot', 'SocialHub by maloon', 'PNSposter',\n",
              "       'Social Reputation', 'RSS Masher - Dev', 'Planable', 'Trump OwO',\n",
              "       \"Bongani's Auto Poster\", 'TTYtter', 'BAPSCharities',\n",
              "       'thefivedaily', 'RegulatorWatch.com', 'BrentStafford.com',\n",
              "       'Phil Ammann', 'flapol', 'Squarespace', 'VoiceFeed',\n",
              "       'Libsyn On-Publish', 'Sharpspring', 'Twitseq', 'Social Press Kit',\n",
              "       'Lightful', 'Gain Platform', 'OregonCovidApp',\n",
              "       'Dynamics 365 for Marketing', 'yorkshire-times', 'Contento App',\n",
              "       'XHNorthAmerica', 'ContentMX', 'opendorse', 'Greenfly',\n",
              "       'Freshdesk', 'Triberr', 'EdgeTheory', 'Emma Social Connector',\n",
              "       'POZ Global Auto Tweets', 'likefollowretweet', 'Healio Twitter',\n",
              "       'Partnermarketing.com', 'EnrichrBot', 'Statusbrew',\n",
              "       'Zift Platform', 'Constant Contact - Social Posts', 'Tweepsmap',\n",
              "       'WayScript', 'SoCast Digital', 'allAfrica.com', 'paulcrypto',\n",
              "       'nwindianabusiness.com', 'tc_covid_bot', 'Newry.ie',\n",
              "       'SPTK: DVOrangeCounty', 'cmsoc', 'VoterVoice Tweet', 'Rallio',\n",
              "       'FalconPro3', 'Cloud Campaign', 'RelojesESP', 'Socialchief',\n",
              "       'SpaceRefTweet', 'PLAYLOADED.COM', 'TD Wealth Social Centre',\n",
              "       'covid19oceanupdate', 'Janetter Pro for Android',\n",
              "       'Fortinet Partner Social', 'Emphatic', 'BLOX CMS',\n",
              "       'Onollo Software', 'GCCHD', 'floridapolitics.com', 'Web lider',\n",
              "       'SOCi - Simplifying Social Media', 'Contentpilot', 'ayasetenchi',\n",
              "       'Chimpify', \"K's posts\", 'Downtime Monkey', 'COVID19TwitterKenya',\n",
              "       'Quotes as image', 'Lead Accel', 'Streamlabs Twitter',\n",
              "       'Dynamic Tweets', 'LatelyAI', 'Foursquare', 'Maat_Interface',\n",
              "       'coronaBot-Purvesh', 'OneCMS Social Connect', 'BTCNbot',\n",
              "       'InterfaceCDM', 'QuickTake by Bloomberg', 'Fan Page Robot',\n",
              "       'Hypefury', 'VotepledgeBot', 'covidestimates',\n",
              "       'Phone2Action Advocacy', 'Enthusiast97', 'NewsAutocorrect',\n",
              "       'Ohhtweet', 'TheLancsTimes', 'TW Blue', 'Apphi',\n",
              "       'Canada COVID-19 Bot', 'standard3d', 'chirr.app',\n",
              "       'GearGuide Twitter', 'SlackSocial', 'Pressenza IPA eng',\n",
              "       'SiteAssist Social Posting', 'ZenRud', 'ThreadReaderApp',\n",
              "       'Cognitive Website', 'UNIAN.info', 'UNIAN Info',\n",
              "       'Tech Nation News updates', 'Fenix for Android', 'Percolate',\n",
              "       'GroupTweet', 'Social Aider', 'CyberSecDN v.2',\n",
              "       'Inclusibot_Revenge', 'Nolwa-Digital', 'OS X', \"Janindu's Bot\",\n",
              "       'Influitive', 'Tweecha Lite', 'SocialShare PRD',\n",
              "       'Woofy Social Media Scheduler', 'ISN Autotweet',\n",
              "       'App for TonysTShirts', 'Market Beam', 'PLANOLY', 'COVIDTweetBot',\n",
              "       'eupdater', 'Newswise Expert Pitch', 'Bigram Poetry',\n",
              "       'Imbibe Website Publishing', 'PixelTweeter', 'Coosto', 'Nonli',\n",
              "       'Blackbird Video Platform/Amplify', 'ALCOVID19',\n",
              "       'Hub Central APP Agencies', 'Marketing Agency', '4strat-foresight',\n",
              "       'audioBoom', 'Grapevine6', 'GaggleAMP', 'StockBot0001',\n",
              "       'SocialPost App', 'Right Relevance', 'Social5',\n",
              "       'COVID Articles on SP Journals', 'coronalivebot',\n",
              "       'Ontario_Covid19', 'Zymplify', 'Whitley2020', 'ChimpReports_',\n",
              "       'OnlyPultCom', 'Washington Square Parkerz', 'WashSquarePrkrz',\n",
              "       'VA COVID-19 Updates', 'twmode', 'www.diolch.wales',\n",
              "       'COVID-19 Alerts', 'TMZ iPhone Social Application',\n",
              "       'Elgato Stream Deck', 'Bloglovin', 'Coronavirus tracker bot',\n",
              "       \"Joe's Politics\", 'TwitPane for Android', 'EastMojo',\n",
              "       'Co-Kinetic ', 'Moa Bridge', 'UhmazingPressRelease',\n",
              "       'Ozclubbers Posts', '15 Minute Fun', 'plague-bot', 'Ryzely',\n",
              "       'LegendLakeComApp', 'STL.News', 'Tweetlogix', 'WoopSocial',\n",
              "       'Vaccines and Homeopathy News', 'Lately Social', 'SocialGest',\n",
              "       'BS-SMAP', 'PressPage Manager', 'Snaps1', 'App Political Hispanic',\n",
              "       '24liveblog', 'Choqok', 'GovernmentCyberWeb', 'PublishToTwitter',\n",
              "       'xh_scitech', 'WP to Twitter EPR', 'Ground News',\n",
              "       'Twitter Web Client', 'uwf.london', 'Posting Platform',\n",
              "       'WP to Twitter IAR', 'Total Travel TAG', '_stranger_twitterbot_',\n",
              "       'Paiger', 'CGS Tech Tweeter', ' Xinhua Sports', 'TanPaulus27',\n",
              "       'Mastodon-Twitter Crossposter', 'TS Auto Tweet', 'RH Auto Tweet',\n",
              "       'Twibble.io', 'Portal de CNMG', 'Revive Old NatCorn Posts',\n",
              "       'The Recycler', 'Kontentino', 'PostPickr', 'HealthBuzz Tweets',\n",
              "       'CIO Tech Asia Twitter', 'PolitiTweet Alerts', 'Africa News Hub',\n",
              "       'Dram Scotland', 'oneindia entertainment', 'gifincric',\n",
              "       'The Shirt List', 'Hail — Create Curate Communicate',\n",
              "       \"Hamish's Twitter Reposter\", 'Sane Auto Tweet', 'forafriendbot',\n",
              "       'Boma Marketing', 'Fox XRIO 2 News ', 'trumpDigest', 'CivilDialog',\n",
              "       'Do It Later', 'ActivewearShopping', 'peetm', 'covid19statusbot',\n",
              "       'Academia Meme Stack', 'The Unshackled',\n",
              "       'Unshackled Content Poster', 'The Tweeted Times Mobile',\n",
              "       'BT Production Site', 'Freebie-Depot', 'CareerIndia_Tweet_Counts',\n",
              "       'LOOKBOOK.nu', 'FPTraffic', 'William Travis Hardman',\n",
              "       'SPTK: PutnamDV', 'Daily Voice Suffolk County', 'Boost Old Posts',\n",
              "       'TheWhiteHouse', 'Twitter VIT App for iOS', 'CletusDroo',\n",
              "       'iHeartMedia Publishing', 'Metigy', 'WIZS 1450 AM',\n",
              "       'Clarabridge Engage', 'NewsFromDonbass', 'Plurk',\n",
              "       'feather for iOS  ', 'Partisan Issues?', 'POZ Army Auto Tweets',\n",
              "       'InfoBlaze Southeast Asia', 'Conservative Daily News',\n",
              "       'MomoRScrape', 'Sendible', 'News Users', 'twidered',\n",
              "       ' autopo.st - @Radio_Lichfield', 'apherald', 'InfoBlaze India',\n",
              "       'JustVent.LIVE', 'CyberSecDN v.7', 'SameraVinson', 'Hiplay',\n",
              "       'doctroidbot', 'Poshmark', 'rtweet_token_sc', 'Paradym Social',\n",
              "       'covid-19data', 'Covid19MT', 'Cawbird', 'Auto tweets',\n",
              "       'Blaq for BlackBerry® 10', 'CoronaWatchUSA', 'oysttyer',\n",
              "       'Radiology: AI app'], dtype=object)"
            ]
          },
          "metadata": {},
          "execution_count": 9
        }
      ],
      "source": [
        "# Source/ Value Count/Distribution of the Sources\n",
        "df['source'].unique()"
      ]
    },
    {
      "cell_type": "code",
      "execution_count": null,
      "id": "improving-updating",
      "metadata": {
        "colab": {
          "base_uri": "https://localhost:8080/"
        },
        "id": "improving-updating",
        "outputId": "2e16e0f9-1c02-4f03-8eae-9adb0c5c91df"
      },
      "outputs": [
        {
          "output_type": "execute_result",
          "data": {
            "text/plain": [
              "Twitter Web App                  56891\n",
              "Twitter for Android              40179\n",
              "Twitter for iPhone               35472\n",
              "TweetDeck                         8543\n",
              "Hootsuite Inc.                    7321\n",
              "                                 ...  \n",
              "DirectorsTalk Auto Posting           1\n",
              "EdgeTheory                           1\n",
              "TMZ iPhone Social Application        1\n",
              "Onollo Software                      1\n",
              "Emma Social Connector                1\n",
              "Name: source, Length: 610, dtype: int64"
            ]
          },
          "metadata": {},
          "execution_count": 10
        }
      ],
      "source": [
        "# Source/ Value Count/Distribution of the Sources\n",
        "df['source'].value_counts()"
      ]
    },
    {
      "cell_type": "code",
      "execution_count": null,
      "id": "painful-ridge",
      "metadata": {
        "collapsed": true,
        "jupyter": {
          "outputs_hidden": true
        },
        "tags": [],
        "colab": {
          "base_uri": "https://localhost:8080/"
        },
        "id": "painful-ridge",
        "outputId": "624eb771-1994-4575-83e8-2a149f8e9bc5"
      },
      "outputs": [
        {
          "output_type": "execute_result",
          "data": {
            "text/plain": [
              "Twitter Web App            56891\n",
              "Twitter for Android        40179\n",
              "Twitter for iPhone         35472\n",
              "TweetDeck                   8543\n",
              "Hootsuite Inc.              7321\n",
              "Twitter for iPad            4336\n",
              "Buffer                      2728\n",
              "Sprout Social               1833\n",
              "Instagram                   1759\n",
              "IFTTT                       1545\n",
              "dlvr.it                      681\n",
              "GlobalPandemic.NET           679\n",
              "LinkedIn                     628\n",
              "COVID19-Updates              625\n",
              "Twitter Media Studio         596\n",
              "WordPress.com                537\n",
              "HubSpot                      513\n",
              "Sprinklr                     497\n",
              "FS Poster                    414\n",
              "Dynamic Signal               391\n",
              "Resistbot Open Letters       390\n",
              "Cheap Bots, Done Quick!      335\n",
              "Paper.li                     322\n",
              "Twitter for Advertisers      317\n",
              "Blood Donors India           281\n",
              "IAMBLOG2TWITTER              266\n",
              "Alexander Higgins            225\n",
              "Zoho Social                  224\n",
              "The Social Jukebox           216\n",
              "Fabrik.fm                    209\n",
              "Name: source, dtype: int64"
            ]
          },
          "metadata": {},
          "execution_count": 11
        }
      ],
      "source": [
        "# Plot the top value_counts\n",
        "df['source'].value_counts().nlargest(30)"
      ]
    },
    {
      "cell_type": "code",
      "execution_count": null,
      "id": "future-angola",
      "metadata": {
        "collapsed": true,
        "jupyter": {
          "outputs_hidden": true
        },
        "tags": [],
        "colab": {
          "base_uri": "https://localhost:8080/",
          "height": 398
        },
        "id": "future-angola",
        "outputId": "fa87083f-c4e2-4acd-8a8d-63583a69fc7e"
      },
      "outputs": [
        {
          "output_type": "execute_result",
          "data": {
            "text/plain": [
              "<matplotlib.axes._subplots.AxesSubplot at 0x7f99fec8ec90>"
            ]
          },
          "metadata": {},
          "execution_count": 12
        },
        {
          "output_type": "display_data",
          "data": {
            "image/png": "[encoded data removed]",
            "text/plain": [
              "<Figure size 432x288 with 1 Axes>"
            ]
          },
          "metadata": {
            "needs_background": "light"
          }
        }
      ],
      "source": [
        "# Plot the top value_counts\n",
        "df['source'].value_counts().nlargest(30).plot(kind='bar')"
      ]
    },
    {
      "cell_type": "code",
      "execution_count": null,
      "id": "synthetic-undergraduate",
      "metadata": {
        "collapsed": true,
        "jupyter": {
          "outputs_hidden": true
        },
        "tags": [],
        "colab": {
          "base_uri": "https://localhost:8080/",
          "height": 677
        },
        "id": "synthetic-undergraduate",
        "outputId": "4eba3085-39cb-438f-c405-31f849f24ef1"
      },
      "outputs": [
        {
          "output_type": "display_data",
          "data": {
            "image/png": "[encoded data removed]",
            "text/plain": [
              "<Figure size 1440x720 with 1 Axes>"
            ]
          },
          "metadata": {
            "needs_background": "light"
          }
        }
      ],
      "source": [
        "# Plot the top value_counts\n",
        "plt.figure(figsize=(20,10))\n",
        "df['source'].value_counts().nlargest(30).plot(kind='bar')\n",
        "plt.xticks(rotation=45)\n",
        "plt.show()"
      ]
    },
    {
      "cell_type": "markdown",
      "id": "precious-commission",
      "metadata": {
        "id": "precious-commission"
      },
      "source": [
        "#### Text Analysis of tweet"
      ]
    },
    {
      "cell_type": "code",
      "execution_count": null,
      "id": "constant-mainland",
      "metadata": {
        "colab": {
          "base_uri": "https://localhost:8080/"
        },
        "id": "constant-mainland",
        "outputId": "7445d7c8-7be0-4a5e-8bac-c0b34b216d52"
      },
      "outputs": [
        {
          "output_type": "stream",
          "name": "stdout",
          "text": [
            "Collecting neattext\n",
            "  Downloading neattext-0.1.2-py3-none-any.whl (114 kB)\n",
            "\u001b[?25l\r\u001b[K     |██▉                             | 10 kB 23.2 MB/s eta 0:00:01\r\u001b[K     |█████▊                          | 20 kB 11.1 MB/s eta 0:00:01\r\u001b[K     |████████▋                       | 30 kB 8.5 MB/s eta 0:00:01\r\u001b[K     |███████████▌                    | 40 kB 8.1 MB/s eta 0:00:01\r\u001b[K     |██████████████▍                 | 51 kB 5.2 MB/s eta 0:00:01\r\u001b[K     |█████████████████▏              | 61 kB 5.4 MB/s eta 0:00:01\r\u001b[K     |████████████████████            | 71 kB 5.5 MB/s eta 0:00:01\r\u001b[K     |███████████████████████         | 81 kB 6.2 MB/s eta 0:00:01\r\u001b[K     |█████████████████████████▉      | 92 kB 4.9 MB/s eta 0:00:01\r\u001b[K     |████████████████████████████▊   | 102 kB 5.4 MB/s eta 0:00:01\r\u001b[K     |███████████████████████████████▋| 112 kB 5.4 MB/s eta 0:00:01\r\u001b[K     |████████████████████████████████| 114 kB 5.4 MB/s \n",
            "\u001b[?25hInstalling collected packages: neattext\n",
            "Successfully installed neattext-0.1.2\n"
          ]
        }
      ],
      "source": [
        "pip install neattext"
      ]
    },
    {
      "cell_type": "code",
      "execution_count": null,
      "id": "weird-aerospace",
      "metadata": {
        "id": "weird-aerospace"
      },
      "outputs": [],
      "source": [
        "# Load Text Cleaning Package\n",
        "import neattext.functions as nfx"
      ]
    },
    {
      "cell_type": "code",
      "execution_count": null,
      "id": "cooked-guard",
      "metadata": {
        "tags": [],
        "colab": {
          "base_uri": "https://localhost:8080/"
        },
        "id": "cooked-guard",
        "outputId": "3049a54d-5a6f-432c-92ed-8feec139408c"
      },
      "outputs": [
        {
          "output_type": "execute_result",
          "data": {
            "text/plain": [
              "['BTC_ADDRESS_REGEX',\n",
              " 'CURRENCY_REGEX',\n",
              " 'CURRENCY_SYMB_REGEX',\n",
              " 'Counter',\n",
              " 'DATE_REGEX',\n",
              " 'EMAIL_REGEX',\n",
              " 'EMOJI_REGEX',\n",
              " 'HASTAG_REGEX',\n",
              " 'MASTERCard_REGEX',\n",
              " 'MD5_SHA_REGEX',\n",
              " 'MOST_COMMON_PUNCT_REGEX',\n",
              " 'NUMBERS_REGEX',\n",
              " 'PHONE_REGEX',\n",
              " 'PoBOX_REGEX',\n",
              " 'SPECIAL_CHARACTERS_REGEX',\n",
              " 'STOPWORDS',\n",
              " 'STOPWORDS_de',\n",
              " 'STOPWORDS_en',\n",
              " 'STOPWORDS_es',\n",
              " 'STOPWORDS_fr',\n",
              " 'STOPWORDS_ru',\n",
              " 'STOPWORDS_yo',\n",
              " 'STREET_ADDRESS_REGEX',\n",
              " 'TextFrame',\n",
              " 'URL_PATTERN',\n",
              " 'USER_HANDLES_REGEX',\n",
              " 'VISACard_REGEX',\n",
              " '__builtins__',\n",
              " '__cached__',\n",
              " '__doc__',\n",
              " '__file__',\n",
              " '__generate_text',\n",
              " '__loader__',\n",
              " '__name__',\n",
              " '__numbers_dict',\n",
              " '__package__',\n",
              " '__spec__',\n",
              " '_lex_richness_herdan',\n",
              " '_lex_richness_maas_ttr',\n",
              " 'clean_text',\n",
              " 'defaultdict',\n",
              " 'digit2words',\n",
              " 'extract_btc_address',\n",
              " 'extract_currencies',\n",
              " 'extract_currency_symbols',\n",
              " 'extract_dates',\n",
              " 'extract_emails',\n",
              " 'extract_emojis',\n",
              " 'extract_hashtags',\n",
              " 'extract_html_tags',\n",
              " 'extract_mastercard_addr',\n",
              " 'extract_md5sha',\n",
              " 'extract_numbers',\n",
              " 'extract_pattern',\n",
              " 'extract_phone_numbers',\n",
              " 'extract_postoffice_box',\n",
              " 'extract_shortwords',\n",
              " 'extract_special_characters',\n",
              " 'extract_stopwords',\n",
              " 'extract_street_address',\n",
              " 'extract_terms_in_bracket',\n",
              " 'extract_urls',\n",
              " 'extract_userhandles',\n",
              " 'extract_visacard_addr',\n",
              " 'fix_contractions',\n",
              " 'generate_sentence',\n",
              " 'hamming_distance',\n",
              " 'inverse_df',\n",
              " 'lexical_richness',\n",
              " 'markov_chain',\n",
              " 'math',\n",
              " 'nlargest',\n",
              " 'normalize',\n",
              " 'num2words',\n",
              " 'random',\n",
              " 're',\n",
              " 'read_txt',\n",
              " 'remove_bad_quotes',\n",
              " 'remove_btc_address',\n",
              " 'remove_currencies',\n",
              " 'remove_currency_symbols',\n",
              " 'remove_custom_pattern',\n",
              " 'remove_custom_words',\n",
              " 'remove_dates',\n",
              " 'remove_emails',\n",
              " 'remove_emojis',\n",
              " 'remove_hashtags',\n",
              " 'remove_html_tags',\n",
              " 'remove_mastercard_addr',\n",
              " 'remove_md5sha',\n",
              " 'remove_multiple_spaces',\n",
              " 'remove_non_ascii',\n",
              " 'remove_numbers',\n",
              " 'remove_phone_numbers',\n",
              " 'remove_postoffice_box',\n",
              " 'remove_puncts',\n",
              " 'remove_punctuations',\n",
              " 'remove_shortwords',\n",
              " 'remove_special_characters',\n",
              " 'remove_stopwords',\n",
              " 'remove_street_address',\n",
              " 'remove_terms_in_bracket',\n",
              " 'remove_urls',\n",
              " 'remove_userhandles',\n",
              " 'remove_visacard_addr',\n",
              " 'replace_bad_quotes',\n",
              " 'replace_currencies',\n",
              " 'replace_currency_symbols',\n",
              " 'replace_dates',\n",
              " 'replace_emails',\n",
              " 'replace_emojis',\n",
              " 'replace_numbers',\n",
              " 'replace_phone_numbers',\n",
              " 'replace_special_characters',\n",
              " 'replace_term',\n",
              " 'replace_urls',\n",
              " 'string',\n",
              " 'term_freq',\n",
              " 'to_txt',\n",
              " 'word_freq',\n",
              " 'word_length_freq']"
            ]
          },
          "metadata": {},
          "execution_count": 16
        }
      ],
      "source": [
        "# Methods/Attrib\n",
        "dir(nfx)"
      ]
    },
    {
      "cell_type": "code",
      "execution_count": null,
      "id": "rapid-texture",
      "metadata": {
        "colab": {
          "base_uri": "https://localhost:8080/",
          "height": 35
        },
        "id": "rapid-texture",
        "outputId": "d2b61f40-ac27-4c41-ba06-e73bd077009b"
      },
      "outputs": [
        {
          "output_type": "execute_result",
          "data": {
            "application/vnd.google.colaboratory.intrinsic+json": {
              "type": "string"
            },
            "text/plain": [
              "'@diane3443 @wdunlap @realDonaldTrump Trump never once claimed #COVID19 was a hoax. We all claim that this effort to… https://t.co/Jkk8vHWHb3'"
            ]
          },
          "metadata": {},
          "execution_count": 17
        }
      ],
      "source": [
        "df['text'].iloc[2]"
      ]
    },
    {
      "cell_type": "markdown",
      "id": "complex-synthesis",
      "metadata": {
        "id": "complex-synthesis"
      },
      "source": [
        "### Noise\n",
        "+ remove mentions/userhandles\n",
        "+ remove hashtags\n",
        "+ urls\n",
        "+ emojis\n",
        "+ special char"
      ]
    },
    {
      "cell_type": "code",
      "execution_count": null,
      "id": "visible-springer",
      "metadata": {
        "id": "visible-springer"
      },
      "outputs": [],
      "source": [
        "df.head()"
      ]
    },
    {
      "cell_type": "code",
      "execution_count": null,
      "id": "collect-tumor",
      "metadata": {
        "collapsed": true,
        "jupyter": {
          "outputs_hidden": true
        },
        "tags": [],
        "colab": {
          "base_uri": "https://localhost:8080/"
        },
        "id": "collect-tumor",
        "outputId": "ef560d16-72bd-4591-a945-0b307167ba74"
      },
      "outputs": [
        {
          "output_type": "execute_result",
          "data": {
            "text/plain": [
              "0                                      []\n",
              "1                                      []\n",
              "2                              [#COVID19]\n",
              "3                              [#COVID19]\n",
              "4         [#CoronaVirusUpdates, #COVID19]\n",
              "                       ...               \n",
              "179103                       [#WearAMask]\n",
              "179104                         [#COVID19]\n",
              "179105                                 []\n",
              "179106                         [#COVID19]\n",
              "179107                                 []\n",
              "Name: text, Length: 179108, dtype: object"
            ]
          },
          "metadata": {},
          "execution_count": 19
        }
      ],
      "source": [
        "df['text'].apply(nfx.extract_hashtags)"
      ]
    },
    {
      "cell_type": "code",
      "execution_count": null,
      "id": "graphic-august",
      "metadata": {
        "id": "graphic-august"
      },
      "outputs": [],
      "source": [
        "df['extracted_hashtags'] = df['text'].apply(nfx.extract_hashtags)"
      ]
    },
    {
      "cell_type": "code",
      "execution_count": null,
      "id": "cooked-realtor",
      "metadata": {
        "collapsed": true,
        "jupyter": {
          "outputs_hidden": true
        },
        "tags": [],
        "colab": {
          "base_uri": "https://localhost:8080/",
          "height": 423
        },
        "id": "cooked-realtor",
        "outputId": "ae55128a-a30a-4990-ce26-b3779bf3185e"
      },
      "outputs": [
        {
          "output_type": "execute_result",
          "data": {
            "text/html": [
              "\n",
              "  <div id=\"df-9bf2ef78-00f7-46ea-b0a7-25723ce891b2\">\n",
              "    <div class=\"colab-df-container\">\n",
              "      <div>\n",
              "<style scoped>\n",
              "    .dataframe tbody tr th:only-of-type {\n",
              "        vertical-align: middle;\n",
              "    }\n",
              "\n",
              "    .dataframe tbody tr th {\n",
              "        vertical-align: top;\n",
              "    }\n",
              "\n",
              "    .dataframe thead th {\n",
              "        text-align: right;\n",
              "    }\n",
              "</style>\n",
              "<table border=\"1\" class=\"dataframe\">\n",
              "  <thead>\n",
              "    <tr style=\"text-align: right;\">\n",
              "      <th></th>\n",
              "      <th>extracted_hashtags</th>\n",
              "      <th>hashtags</th>\n",
              "    </tr>\n",
              "  </thead>\n",
              "  <tbody>\n",
              "    <tr>\n",
              "      <th>0</th>\n",
              "      <td>[]</td>\n",
              "      <td>NaN</td>\n",
              "    </tr>\n",
              "    <tr>\n",
              "      <th>1</th>\n",
              "      <td>[]</td>\n",
              "      <td>NaN</td>\n",
              "    </tr>\n",
              "    <tr>\n",
              "      <th>2</th>\n",
              "      <td>[#COVID19]</td>\n",
              "      <td>['COVID19']</td>\n",
              "    </tr>\n",
              "    <tr>\n",
              "      <th>3</th>\n",
              "      <td>[#COVID19]</td>\n",
              "      <td>['COVID19']</td>\n",
              "    </tr>\n",
              "    <tr>\n",
              "      <th>4</th>\n",
              "      <td>[#CoronaVirusUpdates, #COVID19]</td>\n",
              "      <td>['CoronaVirusUpdates', 'COVID19']</td>\n",
              "    </tr>\n",
              "    <tr>\n",
              "      <th>...</th>\n",
              "      <td>...</td>\n",
              "      <td>...</td>\n",
              "    </tr>\n",
              "    <tr>\n",
              "      <th>179103</th>\n",
              "      <td>[#WearAMask]</td>\n",
              "      <td>['WearAMask']</td>\n",
              "    </tr>\n",
              "    <tr>\n",
              "      <th>179104</th>\n",
              "      <td>[#COVID19]</td>\n",
              "      <td>['COVID19']</td>\n",
              "    </tr>\n",
              "    <tr>\n",
              "      <th>179105</th>\n",
              "      <td>[]</td>\n",
              "      <td>NaN</td>\n",
              "    </tr>\n",
              "    <tr>\n",
              "      <th>179106</th>\n",
              "      <td>[#COVID19]</td>\n",
              "      <td>['COVID19']</td>\n",
              "    </tr>\n",
              "    <tr>\n",
              "      <th>179107</th>\n",
              "      <td>[]</td>\n",
              "      <td>NaN</td>\n",
              "    </tr>\n",
              "  </tbody>\n",
              "</table>\n",
              "<p>179108 rows × 2 columns</p>\n",
              "</div>\n",
              "      <button class=\"colab-df-convert\" onclick=\"convertToInteractive('df-9bf2ef78-00f7-46ea-b0a7-25723ce891b2')\"\n",
              "              title=\"Convert this dataframe to an interactive table.\"\n",
              "              style=\"display:none;\">\n",
              "        \n",
              "  <svg xmlns=\"http://www.w3.org/2000/svg\" height=\"24px\"viewBox=\"0 0 24 24\"\n",
              "       width=\"24px\">\n",
              "    <path d=\"M0 0h24v24H0V0z\" fill=\"none\"/>\n",
              "    <path d=\"M18.56 5.44l.94 2.06.94-2.06 2.06-.94-2.06-.94-.94-2.06-.94 2.06-2.06.94zm-11 1L8.5 8.5l.94-2.06 2.06-.94-2.06-.94L8.5 2.5l-.94 2.06-2.06.94zm10 10l.94 2.06.94-2.06 2.06-.94-2.06-.94-.94-2.06-.94 2.06-2.06.94z\"/><path d=\"M17.41 7.96l-1.37-1.37c-.4-.4-.92-.59-1.43-.59-.52 0-1.04.2-1.43.59L10.3 9.45l-7.72 7.72c-.78.78-.78 2.05 0 2.83L4 21.41c.39.39.9.59 1.41.59.51 0 1.02-.2 1.41-.59l7.78-7.78 2.81-2.81c.8-.78.8-2.07 0-2.86zM5.41 20L4 18.59l7.72-7.72 1.47 1.35L5.41 20z\"/>\n",
              "  </svg>\n",
              "      </button>\n",
              "      \n",
              "  <style>\n",
              "    .colab-df-container {\n",
              "      display:flex;\n",
              "      flex-wrap:wrap;\n",
              "      gap: 12px;\n",
              "    }\n",
              "\n",
              "    .colab-df-convert {\n",
              "      background-color: #E8F0FE;\n",
              "      border: none;\n",
              "      border-radius: 50%;\n",
              "      cursor: pointer;\n",
              "      display: none;\n",
              "      fill: #1967D2;\n",
              "      height: 32px;\n",
              "      padding: 0 0 0 0;\n",
              "      width: 32px;\n",
              "    }\n",
              "\n",
              "    .colab-df-convert:hover {\n",
              "      background-color: #E2EBFA;\n",
              "      box-shadow: 0px 1px 2px rgba(60, 64, 67, 0.3), 0px 1px 3px 1px rgba(60, 64, 67, 0.15);\n",
              "      fill: #174EA6;\n",
              "    }\n",
              "\n",
              "    [theme=dark] .colab-df-convert {\n",
              "      background-color: #3B4455;\n",
              "      fill: #D2E3FC;\n",
              "    }\n",
              "\n",
              "    [theme=dark] .colab-df-convert:hover {\n",
              "      background-color: #434B5C;\n",
              "      box-shadow: 0px 1px 3px 1px rgba(0, 0, 0, 0.15);\n",
              "      filter: drop-shadow(0px 1px 2px rgba(0, 0, 0, 0.3));\n",
              "      fill: #FFFFFF;\n",
              "    }\n",
              "  </style>\n",
              "\n",
              "      <script>\n",
              "        const buttonEl =\n",
              "          document.querySelector('#df-9bf2ef78-00f7-46ea-b0a7-25723ce891b2 button.colab-df-convert');\n",
              "        buttonEl.style.display =\n",
              "          google.colab.kernel.accessAllowed ? 'block' : 'none';\n",
              "\n",
              "        async function convertToInteractive(key) {\n",
              "          const element = document.querySelector('#df-9bf2ef78-00f7-46ea-b0a7-25723ce891b2');\n",
              "          const dataTable =\n",
              "            await google.colab.kernel.invokeFunction('convertToInteractive',\n",
              "                                                     [key], {});\n",
              "          if (!dataTable) return;\n",
              "\n",
              "          const docLinkHtml = 'Like what you see? Visit the ' +\n",
              "            '<a target=\"_blank\" href=https://colab.research.google.com/notebooks/data_table.ipynb>data table notebook</a>'\n",
              "            + ' to learn more about interactive tables.';\n",
              "          element.innerHTML = '';\n",
              "          dataTable['output_type'] = 'display_data';\n",
              "          await google.colab.output.renderOutput(dataTable, element);\n",
              "          const docLink = document.createElement('div');\n",
              "          docLink.innerHTML = docLinkHtml;\n",
              "          element.appendChild(docLink);\n",
              "        }\n",
              "      </script>\n",
              "    </div>\n",
              "  </div>\n",
              "  "
            ],
            "text/plain": [
              "                     extracted_hashtags                           hashtags\n",
              "0                                    []                                NaN\n",
              "1                                    []                                NaN\n",
              "2                            [#COVID19]                        ['COVID19']\n",
              "3                            [#COVID19]                        ['COVID19']\n",
              "4       [#CoronaVirusUpdates, #COVID19]  ['CoronaVirusUpdates', 'COVID19']\n",
              "...                                 ...                                ...\n",
              "179103                     [#WearAMask]                      ['WearAMask']\n",
              "179104                       [#COVID19]                        ['COVID19']\n",
              "179105                               []                                NaN\n",
              "179106                       [#COVID19]                        ['COVID19']\n",
              "179107                               []                                NaN\n",
              "\n",
              "[179108 rows x 2 columns]"
            ]
          },
          "metadata": {},
          "execution_count": 21
        }
      ],
      "source": [
        "df[['extracted_hashtags','hashtags']]"
      ]
    },
    {
      "cell_type": "code",
      "execution_count": null,
      "id": "outer-sentence",
      "metadata": {
        "id": "outer-sentence"
      },
      "outputs": [],
      "source": [
        "# Cleaning Text\n",
        "df['clean_tweet'] = df['text'].apply(nfx.remove_hashtags)"
      ]
    },
    {
      "cell_type": "code",
      "execution_count": null,
      "id": "minus-blair",
      "metadata": {
        "collapsed": true,
        "jupyter": {
          "outputs_hidden": true
        },
        "tags": [],
        "colab": {
          "base_uri": "https://localhost:8080/",
          "height": 423
        },
        "id": "minus-blair",
        "outputId": "4a599630-6743-4494-96b9-e8fe1763712a"
      },
      "outputs": [
        {
          "output_type": "execute_result",
          "data": {
            "text/html": [
              "\n",
              "  <div id=\"df-fae1699c-5af9-49ef-b2e6-afde25f52e3a\">\n",
              "    <div class=\"colab-df-container\">\n",
              "      <div>\n",
              "<style scoped>\n",
              "    .dataframe tbody tr th:only-of-type {\n",
              "        vertical-align: middle;\n",
              "    }\n",
              "\n",
              "    .dataframe tbody tr th {\n",
              "        vertical-align: top;\n",
              "    }\n",
              "\n",
              "    .dataframe thead th {\n",
              "        text-align: right;\n",
              "    }\n",
              "</style>\n",
              "<table border=\"1\" class=\"dataframe\">\n",
              "  <thead>\n",
              "    <tr style=\"text-align: right;\">\n",
              "      <th></th>\n",
              "      <th>text</th>\n",
              "      <th>clean_tweet</th>\n",
              "    </tr>\n",
              "  </thead>\n",
              "  <tbody>\n",
              "    <tr>\n",
              "      <th>0</th>\n",
              "      <td>If I smelled the scent of hand sanitizers toda...</td>\n",
              "      <td>If I smelled the scent of hand sanitizers toda...</td>\n",
              "    </tr>\n",
              "    <tr>\n",
              "      <th>1</th>\n",
              "      <td>Hey @Yankees @YankeesPR and @MLB - wouldn't it...</td>\n",
              "      <td>Hey @Yankees @YankeesPR and @MLB - wouldn't it...</td>\n",
              "    </tr>\n",
              "    <tr>\n",
              "      <th>2</th>\n",
              "      <td>@diane3443 @wdunlap @realDonaldTrump Trump nev...</td>\n",
              "      <td>@diane3443 @wdunlap @realDonaldTrump Trump nev...</td>\n",
              "    </tr>\n",
              "    <tr>\n",
              "      <th>3</th>\n",
              "      <td>@brookbanktv The one gift #COVID19 has give me...</td>\n",
              "      <td>@brookbanktv The one gift   has give me is an ...</td>\n",
              "    </tr>\n",
              "    <tr>\n",
              "      <th>4</th>\n",
              "      <td>25 July : Media Bulletin on Novel #CoronaVirus...</td>\n",
              "      <td>25 July : Media Bulletin on Novel     \\n@kansa...</td>\n",
              "    </tr>\n",
              "    <tr>\n",
              "      <th>...</th>\n",
              "      <td>...</td>\n",
              "      <td>...</td>\n",
              "    </tr>\n",
              "    <tr>\n",
              "      <th>179103</th>\n",
              "      <td>Thanks @IamOhmai for nominating me for the @WH...</td>\n",
              "      <td>Thanks @IamOhmai for nominating me for the @WH...</td>\n",
              "    </tr>\n",
              "    <tr>\n",
              "      <th>179104</th>\n",
              "      <td>2020! The year of insanity! Lol! #COVID19 http...</td>\n",
              "      <td>2020! The year of insanity! Lol!   https://t.c...</td>\n",
              "    </tr>\n",
              "    <tr>\n",
              "      <th>179105</th>\n",
              "      <td>@CTVNews A powerful painting by Juan Lucena. I...</td>\n",
              "      <td>@CTVNews A powerful painting by Juan Lucena. I...</td>\n",
              "    </tr>\n",
              "    <tr>\n",
              "      <th>179106</th>\n",
              "      <td>More than 1,200 students test positive for #CO...</td>\n",
              "      <td>More than 1,200 students test positive for   a...</td>\n",
              "    </tr>\n",
              "    <tr>\n",
              "      <th>179107</th>\n",
              "      <td>I stop when I see a Stop\\n\\n@SABCNews\\n@Izinda...</td>\n",
              "      <td>I stop when I see a Stop\\n\\n@SABCNews\\n@Izinda...</td>\n",
              "    </tr>\n",
              "  </tbody>\n",
              "</table>\n",
              "<p>179108 rows × 2 columns</p>\n",
              "</div>\n",
              "      <button class=\"colab-df-convert\" onclick=\"convertToInteractive('df-fae1699c-5af9-49ef-b2e6-afde25f52e3a')\"\n",
              "              title=\"Convert this dataframe to an interactive table.\"\n",
              "              style=\"display:none;\">\n",
              "        \n",
              "  <svg xmlns=\"http://www.w3.org/2000/svg\" height=\"24px\"viewBox=\"0 0 24 24\"\n",
              "       width=\"24px\">\n",
              "    <path d=\"M0 0h24v24H0V0z\" fill=\"none\"/>\n",
              "    <path d=\"M18.56 5.44l.94 2.06.94-2.06 2.06-.94-2.06-.94-.94-2.06-.94 2.06-2.06.94zm-11 1L8.5 8.5l.94-2.06 2.06-.94-2.06-.94L8.5 2.5l-.94 2.06-2.06.94zm10 10l.94 2.06.94-2.06 2.06-.94-2.06-.94-.94-2.06-.94 2.06-2.06.94z\"/><path d=\"M17.41 7.96l-1.37-1.37c-.4-.4-.92-.59-1.43-.59-.52 0-1.04.2-1.43.59L10.3 9.45l-7.72 7.72c-.78.78-.78 2.05 0 2.83L4 21.41c.39.39.9.59 1.41.59.51 0 1.02-.2 1.41-.59l7.78-7.78 2.81-2.81c.8-.78.8-2.07 0-2.86zM5.41 20L4 18.59l7.72-7.72 1.47 1.35L5.41 20z\"/>\n",
              "  </svg>\n",
              "      </button>\n",
              "      \n",
              "  <style>\n",
              "    .colab-df-container {\n",
              "      display:flex;\n",
              "      flex-wrap:wrap;\n",
              "      gap: 12px;\n",
              "    }\n",
              "\n",
              "    .colab-df-convert {\n",
              "      background-color: #E8F0FE;\n",
              "      border: none;\n",
              "      border-radius: 50%;\n",
              "      cursor: pointer;\n",
              "      display: none;\n",
              "      fill: #1967D2;\n",
              "      height: 32px;\n",
              "      padding: 0 0 0 0;\n",
              "      width: 32px;\n",
              "    }\n",
              "\n",
              "    .colab-df-convert:hover {\n",
              "      background-color: #E2EBFA;\n",
              "      box-shadow: 0px 1px 2px rgba(60, 64, 67, 0.3), 0px 1px 3px 1px rgba(60, 64, 67, 0.15);\n",
              "      fill: #174EA6;\n",
              "    }\n",
              "\n",
              "    [theme=dark] .colab-df-convert {\n",
              "      background-color: #3B4455;\n",
              "      fill: #D2E3FC;\n",
              "    }\n",
              "\n",
              "    [theme=dark] .colab-df-convert:hover {\n",
              "      background-color: #434B5C;\n",
              "      box-shadow: 0px 1px 3px 1px rgba(0, 0, 0, 0.15);\n",
              "      filter: drop-shadow(0px 1px 2px rgba(0, 0, 0, 0.3));\n",
              "      fill: #FFFFFF;\n",
              "    }\n",
              "  </style>\n",
              "\n",
              "      <script>\n",
              "        const buttonEl =\n",
              "          document.querySelector('#df-fae1699c-5af9-49ef-b2e6-afde25f52e3a button.colab-df-convert');\n",
              "        buttonEl.style.display =\n",
              "          google.colab.kernel.accessAllowed ? 'block' : 'none';\n",
              "\n",
              "        async function convertToInteractive(key) {\n",
              "          const element = document.querySelector('#df-fae1699c-5af9-49ef-b2e6-afde25f52e3a');\n",
              "          const dataTable =\n",
              "            await google.colab.kernel.invokeFunction('convertToInteractive',\n",
              "                                                     [key], {});\n",
              "          if (!dataTable) return;\n",
              "\n",
              "          const docLinkHtml = 'Like what you see? Visit the ' +\n",
              "            '<a target=\"_blank\" href=https://colab.research.google.com/notebooks/data_table.ipynb>data table notebook</a>'\n",
              "            + ' to learn more about interactive tables.';\n",
              "          element.innerHTML = '';\n",
              "          dataTable['output_type'] = 'display_data';\n",
              "          await google.colab.output.renderOutput(dataTable, element);\n",
              "          const docLink = document.createElement('div');\n",
              "          docLink.innerHTML = docLinkHtml;\n",
              "          element.appendChild(docLink);\n",
              "        }\n",
              "      </script>\n",
              "    </div>\n",
              "  </div>\n",
              "  "
            ],
            "text/plain": [
              "                                                     text                                        clean_tweet\n",
              "0       If I smelled the scent of hand sanitizers toda...  If I smelled the scent of hand sanitizers toda...\n",
              "1       Hey @Yankees @YankeesPR and @MLB - wouldn't it...  Hey @Yankees @YankeesPR and @MLB - wouldn't it...\n",
              "2       @diane3443 @wdunlap @realDonaldTrump Trump nev...  @diane3443 @wdunlap @realDonaldTrump Trump nev...\n",
              "3       @brookbanktv The one gift #COVID19 has give me...  @brookbanktv The one gift   has give me is an ...\n",
              "4       25 July : Media Bulletin on Novel #CoronaVirus...  25 July : Media Bulletin on Novel     \\n@kansa...\n",
              "...                                                   ...                                                ...\n",
              "179103  Thanks @IamOhmai for nominating me for the @WH...  Thanks @IamOhmai for nominating me for the @WH...\n",
              "179104  2020! The year of insanity! Lol! #COVID19 http...  2020! The year of insanity! Lol!   https://t.c...\n",
              "179105  @CTVNews A powerful painting by Juan Lucena. I...  @CTVNews A powerful painting by Juan Lucena. I...\n",
              "179106  More than 1,200 students test positive for #CO...  More than 1,200 students test positive for   a...\n",
              "179107  I stop when I see a Stop\\n\\n@SABCNews\\n@Izinda...  I stop when I see a Stop\\n\\n@SABCNews\\n@Izinda...\n",
              "\n",
              "[179108 rows x 2 columns]"
            ]
          },
          "metadata": {},
          "execution_count": 23
        }
      ],
      "source": [
        "df[['text','clean_tweet']]"
      ]
    },
    {
      "cell_type": "code",
      "execution_count": null,
      "id": "confused-rouge",
      "metadata": {
        "id": "confused-rouge"
      },
      "outputs": [],
      "source": [
        "df['clean_tweet'] = df['clean_tweet'].apply(lambda x: nfx.remove_userhandles(x))"
      ]
    },
    {
      "cell_type": "code",
      "execution_count": null,
      "id": "blank-native",
      "metadata": {
        "collapsed": true,
        "jupyter": {
          "outputs_hidden": true
        },
        "tags": [],
        "colab": {
          "base_uri": "https://localhost:8080/",
          "height": 423
        },
        "id": "blank-native",
        "outputId": "f9c6a675-6709-4fee-874f-e89a2313fd34"
      },
      "outputs": [
        {
          "output_type": "execute_result",
          "data": {
            "text/html": [
              "\n",
              "  <div id=\"df-f49d680d-0d3b-4924-94fe-976e8bda3360\">\n",
              "    <div class=\"colab-df-container\">\n",
              "      <div>\n",
              "<style scoped>\n",
              "    .dataframe tbody tr th:only-of-type {\n",
              "        vertical-align: middle;\n",
              "    }\n",
              "\n",
              "    .dataframe tbody tr th {\n",
              "        vertical-align: top;\n",
              "    }\n",
              "\n",
              "    .dataframe thead th {\n",
              "        text-align: right;\n",
              "    }\n",
              "</style>\n",
              "<table border=\"1\" class=\"dataframe\">\n",
              "  <thead>\n",
              "    <tr style=\"text-align: right;\">\n",
              "      <th></th>\n",
              "      <th>text</th>\n",
              "      <th>clean_tweet</th>\n",
              "    </tr>\n",
              "  </thead>\n",
              "  <tbody>\n",
              "    <tr>\n",
              "      <th>0</th>\n",
              "      <td>If I smelled the scent of hand sanitizers toda...</td>\n",
              "      <td>If I smelled the scent of hand sanitizers toda...</td>\n",
              "    </tr>\n",
              "    <tr>\n",
              "      <th>1</th>\n",
              "      <td>Hey @Yankees @YankeesPR and @MLB - wouldn't it...</td>\n",
              "      <td>Hey     and   - wouldn't it have made more sen...</td>\n",
              "    </tr>\n",
              "    <tr>\n",
              "      <th>2</th>\n",
              "      <td>@diane3443 @wdunlap @realDonaldTrump Trump nev...</td>\n",
              "      <td>Trump never once claimed   was a hoax. W...</td>\n",
              "    </tr>\n",
              "    <tr>\n",
              "      <th>3</th>\n",
              "      <td>@brookbanktv The one gift #COVID19 has give me...</td>\n",
              "      <td>The one gift   has give me is an appreciatio...</td>\n",
              "    </tr>\n",
              "    <tr>\n",
              "      <th>4</th>\n",
              "      <td>25 July : Media Bulletin on Novel #CoronaVirus...</td>\n",
              "      <td>25 July : Media Bulletin on Novel     \\n      ...</td>\n",
              "    </tr>\n",
              "    <tr>\n",
              "      <th>...</th>\n",
              "      <td>...</td>\n",
              "      <td>...</td>\n",
              "    </tr>\n",
              "    <tr>\n",
              "      <th>179103</th>\n",
              "      <td>Thanks @IamOhmai for nominating me for the @WH...</td>\n",
              "      <td>Thanks   for nominating me for the     challen...</td>\n",
              "    </tr>\n",
              "    <tr>\n",
              "      <th>179104</th>\n",
              "      <td>2020! The year of insanity! Lol! #COVID19 http...</td>\n",
              "      <td>2020! The year of insanity! Lol!   https://t.c...</td>\n",
              "    </tr>\n",
              "    <tr>\n",
              "      <th>179105</th>\n",
              "      <td>@CTVNews A powerful painting by Juan Lucena. I...</td>\n",
              "      <td>A powerful painting by Juan Lucena. It's a t...</td>\n",
              "    </tr>\n",
              "    <tr>\n",
              "      <th>179106</th>\n",
              "      <td>More than 1,200 students test positive for #CO...</td>\n",
              "      <td>More than 1,200 students test positive for   a...</td>\n",
              "    </tr>\n",
              "    <tr>\n",
              "      <th>179107</th>\n",
              "      <td>I stop when I see a Stop\\n\\n@SABCNews\\n@Izinda...</td>\n",
              "      <td>I stop when I see a Stop\\n\\n \\n \\n \\n \\n \\n \\n...</td>\n",
              "    </tr>\n",
              "  </tbody>\n",
              "</table>\n",
              "<p>179108 rows × 2 columns</p>\n",
              "</div>\n",
              "      <button class=\"colab-df-convert\" onclick=\"convertToInteractive('df-f49d680d-0d3b-4924-94fe-976e8bda3360')\"\n",
              "              title=\"Convert this dataframe to an interactive table.\"\n",
              "              style=\"display:none;\">\n",
              "        \n",
              "  <svg xmlns=\"http://www.w3.org/2000/svg\" height=\"24px\"viewBox=\"0 0 24 24\"\n",
              "       width=\"24px\">\n",
              "    <path d=\"M0 0h24v24H0V0z\" fill=\"none\"/>\n",
              "    <path d=\"M18.56 5.44l.94 2.06.94-2.06 2.06-.94-2.06-.94-.94-2.06-.94 2.06-2.06.94zm-11 1L8.5 8.5l.94-2.06 2.06-.94-2.06-.94L8.5 2.5l-.94 2.06-2.06.94zm10 10l.94 2.06.94-2.06 2.06-.94-2.06-.94-.94-2.06-.94 2.06-2.06.94z\"/><path d=\"M17.41 7.96l-1.37-1.37c-.4-.4-.92-.59-1.43-.59-.52 0-1.04.2-1.43.59L10.3 9.45l-7.72 7.72c-.78.78-.78 2.05 0 2.83L4 21.41c.39.39.9.59 1.41.59.51 0 1.02-.2 1.41-.59l7.78-7.78 2.81-2.81c.8-.78.8-2.07 0-2.86zM5.41 20L4 18.59l7.72-7.72 1.47 1.35L5.41 20z\"/>\n",
              "  </svg>\n",
              "      </button>\n",
              "      \n",
              "  <style>\n",
              "    .colab-df-container {\n",
              "      display:flex;\n",
              "      flex-wrap:wrap;\n",
              "      gap: 12px;\n",
              "    }\n",
              "\n",
              "    .colab-df-convert {\n",
              "      background-color: #E8F0FE;\n",
              "      border: none;\n",
              "      border-radius: 50%;\n",
              "      cursor: pointer;\n",
              "      display: none;\n",
              "      fill: #1967D2;\n",
              "      height: 32px;\n",
              "      padding: 0 0 0 0;\n",
              "      width: 32px;\n",
              "    }\n",
              "\n",
              "    .colab-df-convert:hover {\n",
              "      background-color: #E2EBFA;\n",
              "      box-shadow: 0px 1px 2px rgba(60, 64, 67, 0.3), 0px 1px 3px 1px rgba(60, 64, 67, 0.15);\n",
              "      fill: #174EA6;\n",
              "    }\n",
              "\n",
              "    [theme=dark] .colab-df-convert {\n",
              "      background-color: #3B4455;\n",
              "      fill: #D2E3FC;\n",
              "    }\n",
              "\n",
              "    [theme=dark] .colab-df-convert:hover {\n",
              "      background-color: #434B5C;\n",
              "      box-shadow: 0px 1px 3px 1px rgba(0, 0, 0, 0.15);\n",
              "      filter: drop-shadow(0px 1px 2px rgba(0, 0, 0, 0.3));\n",
              "      fill: #FFFFFF;\n",
              "    }\n",
              "  </style>\n",
              "\n",
              "      <script>\n",
              "        const buttonEl =\n",
              "          document.querySelector('#df-f49d680d-0d3b-4924-94fe-976e8bda3360 button.colab-df-convert');\n",
              "        buttonEl.style.display =\n",
              "          google.colab.kernel.accessAllowed ? 'block' : 'none';\n",
              "\n",
              "        async function convertToInteractive(key) {\n",
              "          const element = document.querySelector('#df-f49d680d-0d3b-4924-94fe-976e8bda3360');\n",
              "          const dataTable =\n",
              "            await google.colab.kernel.invokeFunction('convertToInteractive',\n",
              "                                                     [key], {});\n",
              "          if (!dataTable) return;\n",
              "\n",
              "          const docLinkHtml = 'Like what you see? Visit the ' +\n",
              "            '<a target=\"_blank\" href=https://colab.research.google.com/notebooks/data_table.ipynb>data table notebook</a>'\n",
              "            + ' to learn more about interactive tables.';\n",
              "          element.innerHTML = '';\n",
              "          dataTable['output_type'] = 'display_data';\n",
              "          await google.colab.output.renderOutput(dataTable, element);\n",
              "          const docLink = document.createElement('div');\n",
              "          docLink.innerHTML = docLinkHtml;\n",
              "          element.appendChild(docLink);\n",
              "        }\n",
              "      </script>\n",
              "    </div>\n",
              "  </div>\n",
              "  "
            ],
            "text/plain": [
              "                                                     text                                        clean_tweet\n",
              "0       If I smelled the scent of hand sanitizers toda...  If I smelled the scent of hand sanitizers toda...\n",
              "1       Hey @Yankees @YankeesPR and @MLB - wouldn't it...  Hey     and   - wouldn't it have made more sen...\n",
              "2       @diane3443 @wdunlap @realDonaldTrump Trump nev...        Trump never once claimed   was a hoax. W...\n",
              "3       @brookbanktv The one gift #COVID19 has give me...    The one gift   has give me is an appreciatio...\n",
              "4       25 July : Media Bulletin on Novel #CoronaVirus...  25 July : Media Bulletin on Novel     \\n      ...\n",
              "...                                                   ...                                                ...\n",
              "179103  Thanks @IamOhmai for nominating me for the @WH...  Thanks   for nominating me for the     challen...\n",
              "179104  2020! The year of insanity! Lol! #COVID19 http...  2020! The year of insanity! Lol!   https://t.c...\n",
              "179105  @CTVNews A powerful painting by Juan Lucena. I...    A powerful painting by Juan Lucena. It's a t...\n",
              "179106  More than 1,200 students test positive for #CO...  More than 1,200 students test positive for   a...\n",
              "179107  I stop when I see a Stop\\n\\n@SABCNews\\n@Izinda...  I stop when I see a Stop\\n\\n \\n \\n \\n \\n \\n \\n...\n",
              "\n",
              "[179108 rows x 2 columns]"
            ]
          },
          "metadata": {},
          "execution_count": 25
        }
      ],
      "source": [
        "df[['text','clean_tweet']]"
      ]
    },
    {
      "cell_type": "code",
      "execution_count": null,
      "id": "cheap-shirt",
      "metadata": {
        "colab": {
          "base_uri": "https://localhost:8080/",
          "height": 35
        },
        "id": "cheap-shirt",
        "outputId": "01b2c41e-151e-4c10-a99c-5266bd8288d5"
      },
      "outputs": [
        {
          "output_type": "execute_result",
          "data": {
            "application/vnd.google.colaboratory.intrinsic+json": {
              "type": "string"
            },
            "text/plain": [
              "'49K+ Covid19 cases still no response from \\n      cancel the compartment exa… https://t.co/kV2ZKmumu1'"
            ]
          },
          "metadata": {},
          "execution_count": 26
        }
      ],
      "source": [
        "df['clean_tweet'].iloc[10]"
      ]
    },
    {
      "cell_type": "code",
      "execution_count": null,
      "id": "fifth-membrane",
      "metadata": {
        "id": "fifth-membrane"
      },
      "outputs": [],
      "source": [
        "# Cleaning Text: Multiple WhiteSpaces\n",
        "df['clean_tweet'] = df['clean_tweet'].apply(nfx.remove_multiple_spaces)"
      ]
    },
    {
      "cell_type": "code",
      "execution_count": null,
      "id": "welcome-regression",
      "metadata": {
        "colab": {
          "base_uri": "https://localhost:8080/",
          "height": 35
        },
        "id": "welcome-regression",
        "outputId": "ffe41861-1a43-4140-bb78-0ff84b92215a"
      },
      "outputs": [
        {
          "output_type": "execute_result",
          "data": {
            "application/vnd.google.colaboratory.intrinsic+json": {
              "type": "string"
            },
            "text/plain": [
              "'49K+ Covid19 cases still no response from cancel the compartment exa… https://t.co/kV2ZKmumu1'"
            ]
          },
          "metadata": {},
          "execution_count": 28
        }
      ],
      "source": [
        "df['clean_tweet'].iloc[10]"
      ]
    },
    {
      "cell_type": "code",
      "execution_count": null,
      "id": "alternate-brighton",
      "metadata": {
        "id": "alternate-brighton"
      },
      "outputs": [],
      "source": [
        "# Cleaning Text : Remove urls\n",
        "df['clean_tweet'] = df['clean_tweet'].apply(nfx.remove_urls)"
      ]
    },
    {
      "cell_type": "code",
      "execution_count": null,
      "id": "independent-compression",
      "metadata": {
        "id": "independent-compression"
      },
      "outputs": [],
      "source": [
        "# Cleaning Text: Punctuations\n",
        "df['clean_tweet'] = df['clean_tweet'].apply(nfx.remove_puncts)"
      ]
    },
    {
      "cell_type": "code",
      "execution_count": null,
      "id": "clean-performance",
      "metadata": {
        "colab": {
          "base_uri": "https://localhost:8080/",
          "height": 423
        },
        "id": "clean-performance",
        "outputId": "26c8c421-24b8-4989-c5f3-cc9cfa7ed07a"
      },
      "outputs": [
        {
          "output_type": "execute_result",
          "data": {
            "text/html": [
              "\n",
              "  <div id=\"df-2b212e3c-39ec-450d-a0fc-32acfdf3e785\">\n",
              "    <div class=\"colab-df-container\">\n",
              "      <div>\n",
              "<style scoped>\n",
              "    .dataframe tbody tr th:only-of-type {\n",
              "        vertical-align: middle;\n",
              "    }\n",
              "\n",
              "    .dataframe tbody tr th {\n",
              "        vertical-align: top;\n",
              "    }\n",
              "\n",
              "    .dataframe thead th {\n",
              "        text-align: right;\n",
              "    }\n",
              "</style>\n",
              "<table border=\"1\" class=\"dataframe\">\n",
              "  <thead>\n",
              "    <tr style=\"text-align: right;\">\n",
              "      <th></th>\n",
              "      <th>text</th>\n",
              "      <th>clean_tweet</th>\n",
              "    </tr>\n",
              "  </thead>\n",
              "  <tbody>\n",
              "    <tr>\n",
              "      <th>0</th>\n",
              "      <td>If I smelled the scent of hand sanitizers toda...</td>\n",
              "      <td>If I smelled the scent of hand sanitizers toda...</td>\n",
              "    </tr>\n",
              "    <tr>\n",
              "      <th>1</th>\n",
              "      <td>Hey @Yankees @YankeesPR and @MLB - wouldn't it...</td>\n",
              "      <td>Hey and  wouldnt it have made more sense to ha...</td>\n",
              "    </tr>\n",
              "    <tr>\n",
              "      <th>2</th>\n",
              "      <td>@diane3443 @wdunlap @realDonaldTrump Trump nev...</td>\n",
              "      <td>Trump never once claimed was a hoax We all cl...</td>\n",
              "    </tr>\n",
              "    <tr>\n",
              "      <th>3</th>\n",
              "      <td>@brookbanktv The one gift #COVID19 has give me...</td>\n",
              "      <td>The one gift has give me is an appreciation f...</td>\n",
              "    </tr>\n",
              "    <tr>\n",
              "      <th>4</th>\n",
              "      <td>25 July : Media Bulletin on Novel #CoronaVirus...</td>\n",
              "      <td>25 July : Media Bulletin on Novel</td>\n",
              "    </tr>\n",
              "    <tr>\n",
              "      <th>...</th>\n",
              "      <td>...</td>\n",
              "      <td>...</td>\n",
              "    </tr>\n",
              "    <tr>\n",
              "      <th>179103</th>\n",
              "      <td>Thanks @IamOhmai for nominating me for the @WH...</td>\n",
              "      <td>Thanks for nominating me for the challenge I n...</td>\n",
              "    </tr>\n",
              "    <tr>\n",
              "      <th>179104</th>\n",
              "      <td>2020! The year of insanity! Lol! #COVID19 http...</td>\n",
              "      <td>2020 The year of insanity Lol</td>\n",
              "    </tr>\n",
              "    <tr>\n",
              "      <th>179105</th>\n",
              "      <td>@CTVNews A powerful painting by Juan Lucena. I...</td>\n",
              "      <td>A powerful painting by Juan Lucena Its a trib...</td>\n",
              "    </tr>\n",
              "    <tr>\n",
              "      <th>179106</th>\n",
              "      <td>More than 1,200 students test positive for #CO...</td>\n",
              "      <td>More than 1200 students test positive for at m...</td>\n",
              "    </tr>\n",
              "    <tr>\n",
              "      <th>179107</th>\n",
              "      <td>I stop when I see a Stop\\n\\n@SABCNews\\n@Izinda...</td>\n",
              "      <td>I stop when I see a Stop</td>\n",
              "    </tr>\n",
              "  </tbody>\n",
              "</table>\n",
              "<p>179108 rows × 2 columns</p>\n",
              "</div>\n",
              "      <button class=\"colab-df-convert\" onclick=\"convertToInteractive('df-2b212e3c-39ec-450d-a0fc-32acfdf3e785')\"\n",
              "              title=\"Convert this dataframe to an interactive table.\"\n",
              "              style=\"display:none;\">\n",
              "        \n",
              "  <svg xmlns=\"http://www.w3.org/2000/svg\" height=\"24px\"viewBox=\"0 0 24 24\"\n",
              "       width=\"24px\">\n",
              "    <path d=\"M0 0h24v24H0V0z\" fill=\"none\"/>\n",
              "    <path d=\"M18.56 5.44l.94 2.06.94-2.06 2.06-.94-2.06-.94-.94-2.06-.94 2.06-2.06.94zm-11 1L8.5 8.5l.94-2.06 2.06-.94-2.06-.94L8.5 2.5l-.94 2.06-2.06.94zm10 10l.94 2.06.94-2.06 2.06-.94-2.06-.94-.94-2.06-.94 2.06-2.06.94z\"/><path d=\"M17.41 7.96l-1.37-1.37c-.4-.4-.92-.59-1.43-.59-.52 0-1.04.2-1.43.59L10.3 9.45l-7.72 7.72c-.78.78-.78 2.05 0 2.83L4 21.41c.39.39.9.59 1.41.59.51 0 1.02-.2 1.41-.59l7.78-7.78 2.81-2.81c.8-.78.8-2.07 0-2.86zM5.41 20L4 18.59l7.72-7.72 1.47 1.35L5.41 20z\"/>\n",
              "  </svg>\n",
              "      </button>\n",
              "      \n",
              "  <style>\n",
              "    .colab-df-container {\n",
              "      display:flex;\n",
              "      flex-wrap:wrap;\n",
              "      gap: 12px;\n",
              "    }\n",
              "\n",
              "    .colab-df-convert {\n",
              "      background-color: #E8F0FE;\n",
              "      border: none;\n",
              "      border-radius: 50%;\n",
              "      cursor: pointer;\n",
              "      display: none;\n",
              "      fill: #1967D2;\n",
              "      height: 32px;\n",
              "      padding: 0 0 0 0;\n",
              "      width: 32px;\n",
              "    }\n",
              "\n",
              "    .colab-df-convert:hover {\n",
              "      background-color: #E2EBFA;\n",
              "      box-shadow: 0px 1px 2px rgba(60, 64, 67, 0.3), 0px 1px 3px 1px rgba(60, 64, 67, 0.15);\n",
              "      fill: #174EA6;\n",
              "    }\n",
              "\n",
              "    [theme=dark] .colab-df-convert {\n",
              "      background-color: #3B4455;\n",
              "      fill: #D2E3FC;\n",
              "    }\n",
              "\n",
              "    [theme=dark] .colab-df-convert:hover {\n",
              "      background-color: #434B5C;\n",
              "      box-shadow: 0px 1px 3px 1px rgba(0, 0, 0, 0.15);\n",
              "      filter: drop-shadow(0px 1px 2px rgba(0, 0, 0, 0.3));\n",
              "      fill: #FFFFFF;\n",
              "    }\n",
              "  </style>\n",
              "\n",
              "      <script>\n",
              "        const buttonEl =\n",
              "          document.querySelector('#df-2b212e3c-39ec-450d-a0fc-32acfdf3e785 button.colab-df-convert');\n",
              "        buttonEl.style.display =\n",
              "          google.colab.kernel.accessAllowed ? 'block' : 'none';\n",
              "\n",
              "        async function convertToInteractive(key) {\n",
              "          const element = document.querySelector('#df-2b212e3c-39ec-450d-a0fc-32acfdf3e785');\n",
              "          const dataTable =\n",
              "            await google.colab.kernel.invokeFunction('convertToInteractive',\n",
              "                                                     [key], {});\n",
              "          if (!dataTable) return;\n",
              "\n",
              "          const docLinkHtml = 'Like what you see? Visit the ' +\n",
              "            '<a target=\"_blank\" href=https://colab.research.google.com/notebooks/data_table.ipynb>data table notebook</a>'\n",
              "            + ' to learn more about interactive tables.';\n",
              "          element.innerHTML = '';\n",
              "          dataTable['output_type'] = 'display_data';\n",
              "          await google.colab.output.renderOutput(dataTable, element);\n",
              "          const docLink = document.createElement('div');\n",
              "          docLink.innerHTML = docLinkHtml;\n",
              "          element.appendChild(docLink);\n",
              "        }\n",
              "      </script>\n",
              "    </div>\n",
              "  </div>\n",
              "  "
            ],
            "text/plain": [
              "                                                     text                                        clean_tweet\n",
              "0       If I smelled the scent of hand sanitizers toda...  If I smelled the scent of hand sanitizers toda...\n",
              "1       Hey @Yankees @YankeesPR and @MLB - wouldn't it...  Hey and  wouldnt it have made more sense to ha...\n",
              "2       @diane3443 @wdunlap @realDonaldTrump Trump nev...   Trump never once claimed was a hoax We all cl...\n",
              "3       @brookbanktv The one gift #COVID19 has give me...   The one gift has give me is an appreciation f...\n",
              "4       25 July : Media Bulletin on Novel #CoronaVirus...                 25 July : Media Bulletin on Novel \n",
              "...                                                   ...                                                ...\n",
              "179103  Thanks @IamOhmai for nominating me for the @WH...  Thanks for nominating me for the challenge I n...\n",
              "179104  2020! The year of insanity! Lol! #COVID19 http...                     2020 The year of insanity Lol \n",
              "179105  @CTVNews A powerful painting by Juan Lucena. I...   A powerful painting by Juan Lucena Its a trib...\n",
              "179106  More than 1,200 students test positive for #CO...  More than 1200 students test positive for at m...\n",
              "179107  I stop when I see a Stop\\n\\n@SABCNews\\n@Izinda...                          I stop when I see a Stop \n",
              "\n",
              "[179108 rows x 2 columns]"
            ]
          },
          "metadata": {},
          "execution_count": 31
        }
      ],
      "source": [
        "df[['text','clean_tweet']]"
      ]
    },
    {
      "cell_type": "markdown",
      "id": "electric-thermal",
      "metadata": {
        "id": "electric-thermal"
      },
      "source": [
        "### Sentiment Analysis"
      ]
    },
    {
      "cell_type": "code",
      "execution_count": null,
      "id": "bulgarian-communications",
      "metadata": {
        "id": "bulgarian-communications"
      },
      "outputs": [],
      "source": [
        "from textblob import TextBlob"
      ]
    },
    {
      "cell_type": "code",
      "execution_count": null,
      "id": "urban-kuwait",
      "metadata": {
        "id": "urban-kuwait"
      },
      "outputs": [],
      "source": [
        "def get_sentiment(text):\n",
        "    blob = TextBlob(text)\n",
        "    sentiment_polarity = blob.sentiment.polarity\n",
        "   \n",
        "    if sentiment_polarity > 0:\n",
        "        sentiment_label = 'Positive'\n",
        "    elif sentiment_polarity < 0:\n",
        "        sentiment_label = 'Negative'\n",
        "    else:\n",
        "        sentiment_label = 'Neutral'\n",
        "    result = {'polarity':sentiment_polarity,\n",
        "              'sentiment':sentiment_label}\n",
        "    return result"
      ]
    },
    {
      "cell_type": "code",
      "execution_count": null,
      "id": "united-bones",
      "metadata": {
        "id": "united-bones"
      },
      "outputs": [],
      "source": [
        "# Text\n",
        "ex1 = \"i hate you\""
      ]
    },
    {
      "cell_type": "code",
      "execution_count": null,
      "id": "matched-drunk",
      "metadata": {
        "colab": {
          "base_uri": "https://localhost:8080/"
        },
        "id": "matched-drunk",
        "outputId": "9d628155-90ca-4b39-9b85-e264dc76bbda"
      },
      "outputs": [
        {
          "output_type": "execute_result",
          "data": {
            "text/plain": [
              "{'polarity': -0.8, 'sentiment': 'Negative'}"
            ]
          },
          "metadata": {},
          "execution_count": 44
        }
      ],
      "source": [
        "get_sentiment(ex1)"
      ]
    },
    {
      "cell_type": "code",
      "execution_count": null,
      "id": "focused-pathology",
      "metadata": {
        "id": "focused-pathology"
      },
      "outputs": [],
      "source": [
        "df['sentiment_results'] = df['clean_tweet'].apply(get_sentiment)"
      ]
    },
    {
      "cell_type": "code",
      "execution_count": null,
      "id": "loved-librarian",
      "metadata": {
        "colab": {
          "base_uri": "https://localhost:8080/"
        },
        "id": "loved-librarian",
        "outputId": "c5100dec-24bd-49ca-87a2-3dc2fd0487ae"
      },
      "outputs": [
        {
          "output_type": "execute_result",
          "data": {
            "text/plain": [
              "0              {'polarity': -0.25, 'sentiment': 'Negative'}\n",
              "1                {'polarity': 0.5, 'sentiment': 'Positive'}\n",
              "2                 {'polarity': 0.0, 'sentiment': 'Neutral'}\n",
              "3                 {'polarity': 0.0, 'sentiment': 'Neutral'}\n",
              "4                 {'polarity': 0.0, 'sentiment': 'Neutral'}\n",
              "                                ...                        \n",
              "179103           {'polarity': 0.2, 'sentiment': 'Positive'}\n",
              "179104           {'polarity': 0.8, 'sentiment': 'Positive'}\n",
              "179105           {'polarity': 0.3, 'sentiment': 'Positive'}\n",
              "179106    {'polarity': 0.26325757575757575, 'sentiment':...\n",
              "179107            {'polarity': 0.0, 'sentiment': 'Neutral'}\n",
              "Name: sentiment_results, Length: 179108, dtype: object"
            ]
          },
          "metadata": {},
          "execution_count": 37
        }
      ],
      "source": [
        "df['sentiment_results']"
      ]
    },
    {
      "cell_type": "code",
      "execution_count": null,
      "id": "intelligent-mistress",
      "metadata": {
        "colab": {
          "base_uri": "https://localhost:8080/"
        },
        "id": "intelligent-mistress",
        "outputId": "486eaf32-3041-443d-9cc4-a54eb44e8747"
      },
      "outputs": [
        {
          "output_type": "execute_result",
          "data": {
            "text/plain": [
              "{'polarity': -0.25, 'sentiment': 'Negative'}"
            ]
          },
          "metadata": {},
          "execution_count": 38
        }
      ],
      "source": [
        "df['sentiment_results'].iloc[0]"
      ]
    },
    {
      "cell_type": "code",
      "execution_count": null,
      "id": "annual-pepper",
      "metadata": {
        "colab": {
          "base_uri": "https://localhost:8080/",
          "height": 81
        },
        "id": "annual-pepper",
        "outputId": "11b0fe43-fcca-4cee-b29b-92ba48fd6849"
      },
      "outputs": [
        {
          "output_type": "execute_result",
          "data": {
            "text/html": [
              "\n",
              "  <div id=\"df-7703b354-9e93-4cc2-8ce6-5b9c23d04866\">\n",
              "    <div class=\"colab-df-container\">\n",
              "      <div>\n",
              "<style scoped>\n",
              "    .dataframe tbody tr th:only-of-type {\n",
              "        vertical-align: middle;\n",
              "    }\n",
              "\n",
              "    .dataframe tbody tr th {\n",
              "        vertical-align: top;\n",
              "    }\n",
              "\n",
              "    .dataframe thead th {\n",
              "        text-align: right;\n",
              "    }\n",
              "</style>\n",
              "<table border=\"1\" class=\"dataframe\">\n",
              "  <thead>\n",
              "    <tr style=\"text-align: right;\">\n",
              "      <th></th>\n",
              "      <th>polarity</th>\n",
              "      <th>sentiment</th>\n",
              "    </tr>\n",
              "  </thead>\n",
              "  <tbody>\n",
              "    <tr>\n",
              "      <th>0</th>\n",
              "      <td>-0.25</td>\n",
              "      <td>Negative</td>\n",
              "    </tr>\n",
              "  </tbody>\n",
              "</table>\n",
              "</div>\n",
              "      <button class=\"colab-df-convert\" onclick=\"convertToInteractive('df-7703b354-9e93-4cc2-8ce6-5b9c23d04866')\"\n",
              "              title=\"Convert this dataframe to an interactive table.\"\n",
              "              style=\"display:none;\">\n",
              "        \n",
              "  <svg xmlns=\"http://www.w3.org/2000/svg\" height=\"24px\"viewBox=\"0 0 24 24\"\n",
              "       width=\"24px\">\n",
              "    <path d=\"M0 0h24v24H0V0z\" fill=\"none\"/>\n",
              "    <path d=\"M18.56 5.44l.94 2.06.94-2.06 2.06-.94-2.06-.94-.94-2.06-.94 2.06-2.06.94zm-11 1L8.5 8.5l.94-2.06 2.06-.94-2.06-.94L8.5 2.5l-.94 2.06-2.06.94zm10 10l.94 2.06.94-2.06 2.06-.94-2.06-.94-.94-2.06-.94 2.06-2.06.94z\"/><path d=\"M17.41 7.96l-1.37-1.37c-.4-.4-.92-.59-1.43-.59-.52 0-1.04.2-1.43.59L10.3 9.45l-7.72 7.72c-.78.78-.78 2.05 0 2.83L4 21.41c.39.39.9.59 1.41.59.51 0 1.02-.2 1.41-.59l7.78-7.78 2.81-2.81c.8-.78.8-2.07 0-2.86zM5.41 20L4 18.59l7.72-7.72 1.47 1.35L5.41 20z\"/>\n",
              "  </svg>\n",
              "      </button>\n",
              "      \n",
              "  <style>\n",
              "    .colab-df-container {\n",
              "      display:flex;\n",
              "      flex-wrap:wrap;\n",
              "      gap: 12px;\n",
              "    }\n",
              "\n",
              "    .colab-df-convert {\n",
              "      background-color: #E8F0FE;\n",
              "      border: none;\n",
              "      border-radius: 50%;\n",
              "      cursor: pointer;\n",
              "      display: none;\n",
              "      fill: #1967D2;\n",
              "      height: 32px;\n",
              "      padding: 0 0 0 0;\n",
              "      width: 32px;\n",
              "    }\n",
              "\n",
              "    .colab-df-convert:hover {\n",
              "      background-color: #E2EBFA;\n",
              "      box-shadow: 0px 1px 2px rgba(60, 64, 67, 0.3), 0px 1px 3px 1px rgba(60, 64, 67, 0.15);\n",
              "      fill: #174EA6;\n",
              "    }\n",
              "\n",
              "    [theme=dark] .colab-df-convert {\n",
              "      background-color: #3B4455;\n",
              "      fill: #D2E3FC;\n",
              "    }\n",
              "\n",
              "    [theme=dark] .colab-df-convert:hover {\n",
              "      background-color: #434B5C;\n",
              "      box-shadow: 0px 1px 3px 1px rgba(0, 0, 0, 0.15);\n",
              "      filter: drop-shadow(0px 1px 2px rgba(0, 0, 0, 0.3));\n",
              "      fill: #FFFFFF;\n",
              "    }\n",
              "  </style>\n",
              "\n",
              "      <script>\n",
              "        const buttonEl =\n",
              "          document.querySelector('#df-7703b354-9e93-4cc2-8ce6-5b9c23d04866 button.colab-df-convert');\n",
              "        buttonEl.style.display =\n",
              "          google.colab.kernel.accessAllowed ? 'block' : 'none';\n",
              "\n",
              "        async function convertToInteractive(key) {\n",
              "          const element = document.querySelector('#df-7703b354-9e93-4cc2-8ce6-5b9c23d04866');\n",
              "          const dataTable =\n",
              "            await google.colab.kernel.invokeFunction('convertToInteractive',\n",
              "                                                     [key], {});\n",
              "          if (!dataTable) return;\n",
              "\n",
              "          const docLinkHtml = 'Like what you see? Visit the ' +\n",
              "            '<a target=\"_blank\" href=https://colab.research.google.com/notebooks/data_table.ipynb>data table notebook</a>'\n",
              "            + ' to learn more about interactive tables.';\n",
              "          element.innerHTML = '';\n",
              "          dataTable['output_type'] = 'display_data';\n",
              "          await google.colab.output.renderOutput(dataTable, element);\n",
              "          const docLink = document.createElement('div');\n",
              "          docLink.innerHTML = docLinkHtml;\n",
              "          element.appendChild(docLink);\n",
              "        }\n",
              "      </script>\n",
              "    </div>\n",
              "  </div>\n",
              "  "
            ],
            "text/plain": [
              "   polarity sentiment\n",
              "0     -0.25  Negative"
            ]
          },
          "metadata": {},
          "execution_count": 39
        }
      ],
      "source": [
        "pd.json_normalize(df['sentiment_results'].iloc[0])"
      ]
    },
    {
      "cell_type": "code",
      "execution_count": null,
      "id": "loose-chest",
      "metadata": {
        "collapsed": true,
        "jupyter": {
          "outputs_hidden": true
        },
        "tags": [],
        "colab": {
          "base_uri": "https://localhost:8080/",
          "height": 582
        },
        "id": "loose-chest",
        "outputId": "47065ec3-5485-43eb-bd5e-4c45577f6886"
      },
      "outputs": [
        {
          "output_type": "execute_result",
          "data": {
            "text/html": [
              "\n",
              "  <div id=\"df-fc122fd4-1fbd-4e3e-b015-ded0f16b7d30\">\n",
              "    <div class=\"colab-df-container\">\n",
              "      <div>\n",
              "<style scoped>\n",
              "    .dataframe tbody tr th:only-of-type {\n",
              "        vertical-align: middle;\n",
              "    }\n",
              "\n",
              "    .dataframe tbody tr th {\n",
              "        vertical-align: top;\n",
              "    }\n",
              "\n",
              "    .dataframe thead th {\n",
              "        text-align: right;\n",
              "    }\n",
              "</style>\n",
              "<table border=\"1\" class=\"dataframe\">\n",
              "  <thead>\n",
              "    <tr style=\"text-align: right;\">\n",
              "      <th></th>\n",
              "      <th>user_name</th>\n",
              "      <th>user_location</th>\n",
              "      <th>user_description</th>\n",
              "      <th>user_created</th>\n",
              "      <th>user_followers</th>\n",
              "      <th>user_friends</th>\n",
              "      <th>user_favourites</th>\n",
              "      <th>user_verified</th>\n",
              "      <th>date</th>\n",
              "      <th>text</th>\n",
              "      <th>hashtags</th>\n",
              "      <th>source</th>\n",
              "      <th>is_retweet</th>\n",
              "      <th>extracted_hashtags</th>\n",
              "      <th>clean_tweet</th>\n",
              "      <th>sentiment_results</th>\n",
              "    </tr>\n",
              "  </thead>\n",
              "  <tbody>\n",
              "    <tr>\n",
              "      <th>0</th>\n",
              "      <td>ᏉᎥ☻լꂅϮ</td>\n",
              "      <td>astroworld</td>\n",
              "      <td>wednesday addams as a disney princess keepin i...</td>\n",
              "      <td>2017-05-26 05:46:42</td>\n",
              "      <td>624</td>\n",
              "      <td>950</td>\n",
              "      <td>18775</td>\n",
              "      <td>False</td>\n",
              "      <td>2020-07-25 12:27:21</td>\n",
              "      <td>If I smelled the scent of hand sanitizers toda...</td>\n",
              "      <td>NaN</td>\n",
              "      <td>Twitter for iPhone</td>\n",
              "      <td>False</td>\n",
              "      <td>[]</td>\n",
              "      <td>If I smelled the scent of hand sanitizers toda...</td>\n",
              "      <td>{'polarity': -0.25, 'sentiment': 'Negative'}</td>\n",
              "    </tr>\n",
              "    <tr>\n",
              "      <th>1</th>\n",
              "      <td>Tom Basile 🇺🇸</td>\n",
              "      <td>New York, NY</td>\n",
              "      <td>Husband, Father, Columnist &amp; Commentator. Auth...</td>\n",
              "      <td>2009-04-16 20:06:23</td>\n",
              "      <td>2253</td>\n",
              "      <td>1677</td>\n",
              "      <td>24</td>\n",
              "      <td>True</td>\n",
              "      <td>2020-07-25 12:27:17</td>\n",
              "      <td>Hey @Yankees @YankeesPR and @MLB - wouldn't it...</td>\n",
              "      <td>NaN</td>\n",
              "      <td>Twitter for Android</td>\n",
              "      <td>False</td>\n",
              "      <td>[]</td>\n",
              "      <td>Hey and  wouldnt it have made more sense to ha...</td>\n",
              "      <td>{'polarity': 0.5, 'sentiment': 'Positive'}</td>\n",
              "    </tr>\n",
              "    <tr>\n",
              "      <th>2</th>\n",
              "      <td>Time4fisticuffs</td>\n",
              "      <td>Pewee Valley, KY</td>\n",
              "      <td>#Christian #Catholic #Conservative #Reagan #Re...</td>\n",
              "      <td>2009-02-28 18:57:41</td>\n",
              "      <td>9275</td>\n",
              "      <td>9525</td>\n",
              "      <td>7254</td>\n",
              "      <td>False</td>\n",
              "      <td>2020-07-25 12:27:14</td>\n",
              "      <td>@diane3443 @wdunlap @realDonaldTrump Trump nev...</td>\n",
              "      <td>['COVID19']</td>\n",
              "      <td>Twitter for Android</td>\n",
              "      <td>False</td>\n",
              "      <td>[#COVID19]</td>\n",
              "      <td>Trump never once claimed was a hoax We all cl...</td>\n",
              "      <td>{'polarity': 0.0, 'sentiment': 'Neutral'}</td>\n",
              "    </tr>\n",
              "    <tr>\n",
              "      <th>3</th>\n",
              "      <td>ethel mertz</td>\n",
              "      <td>Stuck in the Middle</td>\n",
              "      <td>#Browns #Indians #ClevelandProud #[]_[] #Cavs ...</td>\n",
              "      <td>2019-03-07 01:45:06</td>\n",
              "      <td>197</td>\n",
              "      <td>987</td>\n",
              "      <td>1488</td>\n",
              "      <td>False</td>\n",
              "      <td>2020-07-25 12:27:10</td>\n",
              "      <td>@brookbanktv The one gift #COVID19 has give me...</td>\n",
              "      <td>['COVID19']</td>\n",
              "      <td>Twitter for iPhone</td>\n",
              "      <td>False</td>\n",
              "      <td>[#COVID19]</td>\n",
              "      <td>The one gift has give me is an appreciation f...</td>\n",
              "      <td>{'polarity': 0.0, 'sentiment': 'Neutral'}</td>\n",
              "    </tr>\n",
              "    <tr>\n",
              "      <th>4</th>\n",
              "      <td>DIPR-J&amp;K</td>\n",
              "      <td>Jammu and Kashmir</td>\n",
              "      <td>🖊️Official Twitter handle of Department of Inf...</td>\n",
              "      <td>2017-02-12 06:45:15</td>\n",
              "      <td>101009</td>\n",
              "      <td>168</td>\n",
              "      <td>101</td>\n",
              "      <td>False</td>\n",
              "      <td>2020-07-25 12:27:08</td>\n",
              "      <td>25 July : Media Bulletin on Novel #CoronaVirus...</td>\n",
              "      <td>['CoronaVirusUpdates', 'COVID19']</td>\n",
              "      <td>Twitter for Android</td>\n",
              "      <td>False</td>\n",
              "      <td>[#CoronaVirusUpdates, #COVID19]</td>\n",
              "      <td>25 July : Media Bulletin on Novel</td>\n",
              "      <td>{'polarity': 0.0, 'sentiment': 'Neutral'}</td>\n",
              "    </tr>\n",
              "  </tbody>\n",
              "</table>\n",
              "</div>\n",
              "      <button class=\"colab-df-convert\" onclick=\"convertToInteractive('df-fc122fd4-1fbd-4e3e-b015-ded0f16b7d30')\"\n",
              "              title=\"Convert this dataframe to an interactive table.\"\n",
              "              style=\"display:none;\">\n",
              "        \n",
              "  <svg xmlns=\"http://www.w3.org/2000/svg\" height=\"24px\"viewBox=\"0 0 24 24\"\n",
              "       width=\"24px\">\n",
              "    <path d=\"M0 0h24v24H0V0z\" fill=\"none\"/>\n",
              "    <path d=\"M18.56 5.44l.94 2.06.94-2.06 2.06-.94-2.06-.94-.94-2.06-.94 2.06-2.06.94zm-11 1L8.5 8.5l.94-2.06 2.06-.94-2.06-.94L8.5 2.5l-.94 2.06-2.06.94zm10 10l.94 2.06.94-2.06 2.06-.94-2.06-.94-.94-2.06-.94 2.06-2.06.94z\"/><path d=\"M17.41 7.96l-1.37-1.37c-.4-.4-.92-.59-1.43-.59-.52 0-1.04.2-1.43.59L10.3 9.45l-7.72 7.72c-.78.78-.78 2.05 0 2.83L4 21.41c.39.39.9.59 1.41.59.51 0 1.02-.2 1.41-.59l7.78-7.78 2.81-2.81c.8-.78.8-2.07 0-2.86zM5.41 20L4 18.59l7.72-7.72 1.47 1.35L5.41 20z\"/>\n",
              "  </svg>\n",
              "      </button>\n",
              "      \n",
              "  <style>\n",
              "    .colab-df-container {\n",
              "      display:flex;\n",
              "      flex-wrap:wrap;\n",
              "      gap: 12px;\n",
              "    }\n",
              "\n",
              "    .colab-df-convert {\n",
              "      background-color: #E8F0FE;\n",
              "      border: none;\n",
              "      border-radius: 50%;\n",
              "      cursor: pointer;\n",
              "      display: none;\n",
              "      fill: #1967D2;\n",
              "      height: 32px;\n",
              "      padding: 0 0 0 0;\n",
              "      width: 32px;\n",
              "    }\n",
              "\n",
              "    .colab-df-convert:hover {\n",
              "      background-color: #E2EBFA;\n",
              "      box-shadow: 0px 1px 2px rgba(60, 64, 67, 0.3), 0px 1px 3px 1px rgba(60, 64, 67, 0.15);\n",
              "      fill: #174EA6;\n",
              "    }\n",
              "\n",
              "    [theme=dark] .colab-df-convert {\n",
              "      background-color: #3B4455;\n",
              "      fill: #D2E3FC;\n",
              "    }\n",
              "\n",
              "    [theme=dark] .colab-df-convert:hover {\n",
              "      background-color: #434B5C;\n",
              "      box-shadow: 0px 1px 3px 1px rgba(0, 0, 0, 0.15);\n",
              "      filter: drop-shadow(0px 1px 2px rgba(0, 0, 0, 0.3));\n",
              "      fill: #FFFFFF;\n",
              "    }\n",
              "  </style>\n",
              "\n",
              "      <script>\n",
              "        const buttonEl =\n",
              "          document.querySelector('#df-fc122fd4-1fbd-4e3e-b015-ded0f16b7d30 button.colab-df-convert');\n",
              "        buttonEl.style.display =\n",
              "          google.colab.kernel.accessAllowed ? 'block' : 'none';\n",
              "\n",
              "        async function convertToInteractive(key) {\n",
              "          const element = document.querySelector('#df-fc122fd4-1fbd-4e3e-b015-ded0f16b7d30');\n",
              "          const dataTable =\n",
              "            await google.colab.kernel.invokeFunction('convertToInteractive',\n",
              "                                                     [key], {});\n",
              "          if (!dataTable) return;\n",
              "\n",
              "          const docLinkHtml = 'Like what you see? Visit the ' +\n",
              "            '<a target=\"_blank\" href=https://colab.research.google.com/notebooks/data_table.ipynb>data table notebook</a>'\n",
              "            + ' to learn more about interactive tables.';\n",
              "          element.innerHTML = '';\n",
              "          dataTable['output_type'] = 'display_data';\n",
              "          await google.colab.output.renderOutput(dataTable, element);\n",
              "          const docLink = document.createElement('div');\n",
              "          docLink.innerHTML = docLinkHtml;\n",
              "          element.appendChild(docLink);\n",
              "        }\n",
              "      </script>\n",
              "    </div>\n",
              "  </div>\n",
              "  "
            ],
            "text/plain": [
              "         user_name  ...                             sentiment_results\n",
              "0           ᏉᎥ☻լꂅϮ  ...  {'polarity': -0.25, 'sentiment': 'Negative'}\n",
              "1    Tom Basile 🇺🇸  ...    {'polarity': 0.5, 'sentiment': 'Positive'}\n",
              "2  Time4fisticuffs  ...     {'polarity': 0.0, 'sentiment': 'Neutral'}\n",
              "3      ethel mertz  ...     {'polarity': 0.0, 'sentiment': 'Neutral'}\n",
              "4         DIPR-J&K  ...     {'polarity': 0.0, 'sentiment': 'Neutral'}\n",
              "\n",
              "[5 rows x 16 columns]"
            ]
          },
          "metadata": {},
          "execution_count": 41
        }
      ],
      "source": [
        "df.head()"
      ]
    },
    {
      "cell_type": "code",
      "execution_count": null,
      "id": "moved-editor",
      "metadata": {
        "colab": {
          "base_uri": "https://localhost:8080/",
          "height": 571
        },
        "id": "moved-editor",
        "outputId": "a738734d-e3ca-4eb6-8f4b-8573f341da43"
      },
      "outputs": [
        {
          "output_type": "error",
          "ename": "KeyError",
          "evalue": "ignored",
          "traceback": [
            "\u001b[0;31m---------------------------------------------------------------------------\u001b[0m",
            "\u001b[0;31mKeyError\u001b[0m                                  Traceback (most recent call last)",
            "\u001b[0;32m/usr/local/lib/python3.7/dist-packages/pandas/core/indexes/base.py\u001b[0m in \u001b[0;36mget_loc\u001b[0;34m(self, key, method, tolerance)\u001b[0m\n\u001b[1;32m   2897\u001b[0m             \u001b[0;32mtry\u001b[0m\u001b[0;34m:\u001b[0m\u001b[0;34m\u001b[0m\u001b[0;34m\u001b[0m\u001b[0m\n\u001b[0;32m-> 2898\u001b[0;31m                 \u001b[0;32mreturn\u001b[0m \u001b[0mself\u001b[0m\u001b[0;34m.\u001b[0m\u001b[0m_engine\u001b[0m\u001b[0;34m.\u001b[0m\u001b[0mget_loc\u001b[0m\u001b[0;34m(\u001b[0m\u001b[0mcasted_key\u001b[0m\u001b[0;34m)\u001b[0m\u001b[0;34m\u001b[0m\u001b[0;34m\u001b[0m\u001b[0m\n\u001b[0m\u001b[1;32m   2899\u001b[0m             \u001b[0;32mexcept\u001b[0m \u001b[0mKeyError\u001b[0m \u001b[0;32mas\u001b[0m \u001b[0merr\u001b[0m\u001b[0;34m:\u001b[0m\u001b[0;34m\u001b[0m\u001b[0;34m\u001b[0m\u001b[0m\n",
            "\u001b[0;32mpandas/_libs/index.pyx\u001b[0m in \u001b[0;36mpandas._libs.index.IndexEngine.get_loc\u001b[0;34m()\u001b[0m\n",
            "\u001b[0;32mpandas/_libs/index.pyx\u001b[0m in \u001b[0;36mpandas._libs.index.IndexEngine.get_loc\u001b[0;34m()\u001b[0m\n",
            "\u001b[0;32mpandas/_libs/hashtable_class_helper.pxi\u001b[0m in \u001b[0;36mpandas._libs.hashtable.PyObjectHashTable.get_item\u001b[0;34m()\u001b[0m\n",
            "\u001b[0;32mpandas/_libs/hashtable_class_helper.pxi\u001b[0m in \u001b[0;36mpandas._libs.hashtable.PyObjectHashTable.get_item\u001b[0;34m()\u001b[0m\n",
            "\u001b[0;31mKeyError\u001b[0m: 'sentiment'",
            "\nThe above exception was the direct cause of the following exception:\n",
            "\u001b[0;31mKeyError\u001b[0m                                  Traceback (most recent call last)",
            "\u001b[0;32m<ipython-input-46-1be892254d43>\u001b[0m in \u001b[0;36m<module>\u001b[0;34m()\u001b[0m\n\u001b[0;32m----> 1\u001b[0;31m \u001b[0mdf\u001b[0m\u001b[0;34m[\u001b[0m\u001b[0;34m'sentiment'\u001b[0m\u001b[0;34m]\u001b[0m\u001b[0;34m.\u001b[0m\u001b[0mvalue_counts\u001b[0m\u001b[0;34m(\u001b[0m\u001b[0;34m)\u001b[0m\u001b[0;34m\u001b[0m\u001b[0;34m\u001b[0m\u001b[0m\n\u001b[0m",
            "\u001b[0;32m/usr/local/lib/python3.7/dist-packages/pandas/core/frame.py\u001b[0m in \u001b[0;36m__getitem__\u001b[0;34m(self, key)\u001b[0m\n\u001b[1;32m   2904\u001b[0m             \u001b[0;32mif\u001b[0m \u001b[0mself\u001b[0m\u001b[0;34m.\u001b[0m\u001b[0mcolumns\u001b[0m\u001b[0;34m.\u001b[0m\u001b[0mnlevels\u001b[0m \u001b[0;34m>\u001b[0m \u001b[0;36m1\u001b[0m\u001b[0;34m:\u001b[0m\u001b[0;34m\u001b[0m\u001b[0;34m\u001b[0m\u001b[0m\n\u001b[1;32m   2905\u001b[0m                 \u001b[0;32mreturn\u001b[0m \u001b[0mself\u001b[0m\u001b[0;34m.\u001b[0m\u001b[0m_getitem_multilevel\u001b[0m\u001b[0;34m(\u001b[0m\u001b[0mkey\u001b[0m\u001b[0;34m)\u001b[0m\u001b[0;34m\u001b[0m\u001b[0;34m\u001b[0m\u001b[0m\n\u001b[0;32m-> 2906\u001b[0;31m             \u001b[0mindexer\u001b[0m \u001b[0;34m=\u001b[0m \u001b[0mself\u001b[0m\u001b[0;34m.\u001b[0m\u001b[0mcolumns\u001b[0m\u001b[0;34m.\u001b[0m\u001b[0mget_loc\u001b[0m\u001b[0;34m(\u001b[0m\u001b[0mkey\u001b[0m\u001b[0;34m)\u001b[0m\u001b[0;34m\u001b[0m\u001b[0;34m\u001b[0m\u001b[0m\n\u001b[0m\u001b[1;32m   2907\u001b[0m             \u001b[0;32mif\u001b[0m \u001b[0mis_integer\u001b[0m\u001b[0;34m(\u001b[0m\u001b[0mindexer\u001b[0m\u001b[0;34m)\u001b[0m\u001b[0;34m:\u001b[0m\u001b[0;34m\u001b[0m\u001b[0;34m\u001b[0m\u001b[0m\n\u001b[1;32m   2908\u001b[0m                 \u001b[0mindexer\u001b[0m \u001b[0;34m=\u001b[0m \u001b[0;34m[\u001b[0m\u001b[0mindexer\u001b[0m\u001b[0;34m]\u001b[0m\u001b[0;34m\u001b[0m\u001b[0;34m\u001b[0m\u001b[0m\n",
            "\u001b[0;32m/usr/local/lib/python3.7/dist-packages/pandas/core/indexes/base.py\u001b[0m in \u001b[0;36mget_loc\u001b[0;34m(self, key, method, tolerance)\u001b[0m\n\u001b[1;32m   2898\u001b[0m                 \u001b[0;32mreturn\u001b[0m \u001b[0mself\u001b[0m\u001b[0;34m.\u001b[0m\u001b[0m_engine\u001b[0m\u001b[0;34m.\u001b[0m\u001b[0mget_loc\u001b[0m\u001b[0;34m(\u001b[0m\u001b[0mcasted_key\u001b[0m\u001b[0;34m)\u001b[0m\u001b[0;34m\u001b[0m\u001b[0;34m\u001b[0m\u001b[0m\n\u001b[1;32m   2899\u001b[0m             \u001b[0;32mexcept\u001b[0m \u001b[0mKeyError\u001b[0m \u001b[0;32mas\u001b[0m \u001b[0merr\u001b[0m\u001b[0;34m:\u001b[0m\u001b[0;34m\u001b[0m\u001b[0;34m\u001b[0m\u001b[0m\n\u001b[0;32m-> 2900\u001b[0;31m                 \u001b[0;32mraise\u001b[0m \u001b[0mKeyError\u001b[0m\u001b[0;34m(\u001b[0m\u001b[0mkey\u001b[0m\u001b[0;34m)\u001b[0m \u001b[0;32mfrom\u001b[0m \u001b[0merr\u001b[0m\u001b[0;34m\u001b[0m\u001b[0;34m\u001b[0m\u001b[0m\n\u001b[0m\u001b[1;32m   2901\u001b[0m \u001b[0;34m\u001b[0m\u001b[0m\n\u001b[1;32m   2902\u001b[0m         \u001b[0;32mif\u001b[0m \u001b[0mtolerance\u001b[0m \u001b[0;32mis\u001b[0m \u001b[0;32mnot\u001b[0m \u001b[0;32mNone\u001b[0m\u001b[0;34m:\u001b[0m\u001b[0;34m\u001b[0m\u001b[0;34m\u001b[0m\u001b[0m\n",
            "\u001b[0;31mKeyError\u001b[0m: 'sentiment'"
          ]
        }
      ],
      "source": [
        "df['sentiment'].value_counts()"
      ]
    },
    {
      "cell_type": "code",
      "execution_count": null,
      "id": "assisted-hayes",
      "metadata": {
        "id": "assisted-hayes"
      },
      "outputs": [],
      "source": [
        "df['sentiment'].value_counts().plot(kind='bar')"
      ]
    },
    {
      "cell_type": "code",
      "execution_count": null,
      "id": "atlantic-banner",
      "metadata": {
        "id": "atlantic-banner"
      },
      "outputs": [],
      "source": [
        "# Plot with seaborn\n",
        "sns.countplot(df['sentiment'])"
      ]
    },
    {
      "cell_type": "markdown",
      "source": [
        "### Keyword Extraction\n",
        "+ For Positive and Negative Sentiment\n",
        "+ General"
      ],
      "metadata": {
        "id": "ytJw0dIfRPxh"
      },
      "id": "ytJw0dIfRPxh"
    },
    {
      "cell_type": "code",
      "execution_count": null,
      "id": "occupied-montgomery",
      "metadata": {
        "id": "occupied-montgomery"
      },
      "outputs": [],
      "source": [
        "positive_tweet = df[df['sentiment'] == 'Positive']['clean_tweet']"
      ]
    },
    {
      "cell_type": "code",
      "execution_count": null,
      "id": "medieval-charleston",
      "metadata": {
        "id": "medieval-charleston"
      },
      "outputs": [],
      "source": [
        "neutral_tweet = df[df['sentiment'] == 'Neutral']['clean_tweet']\n",
        "negative_tweet = df[df['sentiment'] == 'Negative']['clean_tweet']"
      ]
    },
    {
      "cell_type": "code",
      "execution_count": null,
      "id": "fiscal-chuck",
      "metadata": {
        "collapsed": true,
        "jupyter": {
          "outputs_hidden": true
        },
        "tags": [],
        "id": "fiscal-chuck"
      },
      "outputs": [],
      "source": [
        "positive_tweet"
      ]
    },
    {
      "cell_type": "code",
      "execution_count": null,
      "id": "northern-account",
      "metadata": {
        "id": "northern-account"
      },
      "outputs": [],
      "source": [
        "# Remove Stopwords and Convert to Tokens\n",
        "positive_tweet_list = positive_tweet.apply(nfx.remove_stopwords).tolist()"
      ]
    },
    {
      "cell_type": "code",
      "execution_count": null,
      "id": "forward-metallic",
      "metadata": {
        "id": "forward-metallic"
      },
      "outputs": [],
      "source": [
        "negative_tweet_list = negative_tweet.apply(nfx.remove_stopwords).tolist()\n",
        "neutral_tweet_list = neutral_tweet.apply(nfx.remove_stopwords).tolist()"
      ]
    },
    {
      "cell_type": "code",
      "execution_count": null,
      "id": "still-helen",
      "metadata": {
        "collapsed": true,
        "jupyter": {
          "outputs_hidden": true
        },
        "tags": [],
        "id": "still-helen"
      },
      "outputs": [],
      "source": [
        "positive_tweet_list "
      ]
    },
    {
      "cell_type": "code",
      "execution_count": null,
      "id": "involved-warehouse",
      "metadata": {
        "id": "involved-warehouse"
      },
      "outputs": [],
      "source": [
        "# Tokenization\n",
        "for line in positive_tweet_list:\n",
        "#     print(line)\n",
        "    for token in line.split():\n",
        "        print(token)"
      ]
    },
    {
      "cell_type": "code",
      "execution_count": null,
      "id": "historic-bottom",
      "metadata": {
        "id": "historic-bottom"
      },
      "outputs": [],
      "source": [
        "pos_tokens = [token for line in positive_tweet_list  for token in line.split()]"
      ]
    },
    {
      "cell_type": "code",
      "execution_count": null,
      "id": "public-orlando",
      "metadata": {
        "id": "public-orlando"
      },
      "outputs": [],
      "source": [
        "neg_tokens = [token for line in negative_tweet_list  for token in line.split()]\n",
        "neut_tokens = [token for line in neutral_tweet_list  for token in line.split()]"
      ]
    },
    {
      "cell_type": "code",
      "execution_count": null,
      "id": "complimentary-sunglasses",
      "metadata": {
        "collapsed": true,
        "jupyter": {
          "outputs_hidden": true
        },
        "tags": [],
        "id": "complimentary-sunglasses"
      },
      "outputs": [],
      "source": [
        "pos_tokens"
      ]
    },
    {
      "cell_type": "code",
      "execution_count": null,
      "id": "important-oxide",
      "metadata": {
        "id": "important-oxide"
      },
      "outputs": [],
      "source": [
        "# Get Most Commonest Keywords\n",
        "from collections import Counter"
      ]
    },
    {
      "cell_type": "code",
      "execution_count": null,
      "id": "mediterranean-louisville",
      "metadata": {
        "id": "mediterranean-louisville"
      },
      "outputs": [],
      "source": [
        "def get_tokens(docx,num=30):\n",
        "    word_tokens = Counter(docx)\n",
        "    most_common = word_tokens.most_common(num)\n",
        "    result = dict(most_common)\n",
        "    return result"
      ]
    },
    {
      "cell_type": "code",
      "execution_count": null,
      "id": "polish-negative",
      "metadata": {
        "collapsed": true,
        "jupyter": {
          "outputs_hidden": true
        },
        "tags": [],
        "id": "polish-negative"
      },
      "outputs": [],
      "source": [
        "get_tokens(pos_tokens)"
      ]
    },
    {
      "cell_type": "code",
      "execution_count": null,
      "id": "devoted-lincoln",
      "metadata": {
        "id": "devoted-lincoln"
      },
      "outputs": [],
      "source": [
        "most_common_pos_words = get_tokens(pos_tokens)\n",
        "most_common_neg_words = get_tokens(neg_tokens)\n",
        "most_common_neut_words = get_tokens(neut_tokens)"
      ]
    },
    {
      "cell_type": "code",
      "execution_count": null,
      "id": "junior-winner",
      "metadata": {
        "id": "junior-winner"
      },
      "outputs": [],
      "source": [
        "# Plot with seaborn\n",
        "neg_df = pd.DataFrame(most_common_neg_words.items(),columns=['words','scores'])"
      ]
    },
    {
      "cell_type": "code",
      "execution_count": null,
      "id": "extreme-beads",
      "metadata": {
        "collapsed": true,
        "jupyter": {
          "outputs_hidden": true
        },
        "tags": [],
        "id": "extreme-beads"
      },
      "outputs": [],
      "source": [
        "neg_df"
      ]
    },
    {
      "cell_type": "code",
      "execution_count": null,
      "id": "thrown-speaker",
      "metadata": {
        "id": "thrown-speaker"
      },
      "outputs": [],
      "source": [
        "plt.figure(figsize=(20,10))\n",
        "sns.barplot(x='words',y='scores',data=neg_df)\n",
        "plt.xticks(rotation=45)\n",
        "plt.show()\n"
      ]
    },
    {
      "cell_type": "code",
      "execution_count": null,
      "id": "whole-contact",
      "metadata": {
        "id": "whole-contact"
      },
      "outputs": [],
      "source": [
        "# Plot with seaborn\n",
        "pos_df = pd.DataFrame(most_common_pos_words.items(),columns=['words','scores'])\n",
        "plt.figure(figsize=(20,10))\n",
        "sns.barplot(x='words',y='scores',data=pos_df)\n",
        "plt.xticks(rotation=45)\n",
        "plt.show()\n"
      ]
    },
    {
      "cell_type": "code",
      "execution_count": null,
      "id": "split-present",
      "metadata": {
        "id": "split-present"
      },
      "outputs": [],
      "source": [
        "# Plot with seaborn\n",
        "neut_df = pd.DataFrame(most_common_neut_words.items(),columns=['words','scores'])\n",
        "plt.figure(figsize=(20,10))\n",
        "sns.barplot(x='words',y='scores',data=neut_df)\n",
        "plt.xticks(rotation=45)\n",
        "plt.show()\n"
      ]
    },
    {
      "cell_type": "code",
      "execution_count": null,
      "id": "loose-procurement",
      "metadata": {
        "id": "loose-procurement"
      },
      "outputs": [],
      "source": [
        "### Word Cloud\n",
        "from wordcloud import WordCloud"
      ]
    },
    {
      "cell_type": "code",
      "execution_count": null,
      "id": "valued-internship",
      "metadata": {
        "id": "valued-internship"
      },
      "outputs": [],
      "source": [
        "def plot_wordcloud(docx):\n",
        "    plt.figure(figsize=(20,10))\n",
        "    mywordcloud = WordCloud().generate(docx)\n",
        "    plt.imshow(mywordcloud,interpolation='bilinear')\n",
        "    plt.axis('off')\n",
        "    plt.show()"
      ]
    },
    {
      "cell_type": "code",
      "execution_count": null,
      "id": "geological-recall",
      "metadata": {
        "id": "geological-recall"
      },
      "outputs": [],
      "source": [
        "pos_docx = ' '.join(pos_tokens)\n",
        "neg_docx = ' '.join(neg_tokens)\n",
        "neu_docx = ' '.join(neut_tokens)"
      ]
    },
    {
      "cell_type": "code",
      "execution_count": null,
      "id": "german-spare",
      "metadata": {
        "id": "german-spare"
      },
      "outputs": [],
      "source": [
        "plot_wordcloud(pos_docx)"
      ]
    },
    {
      "cell_type": "code",
      "execution_count": null,
      "id": "changing-chinese",
      "metadata": {
        "id": "changing-chinese"
      },
      "outputs": [],
      "source": [
        "plot_wordcloud(neg_docx)"
      ]
    },
    {
      "cell_type": "code",
      "execution_count": null,
      "id": "better-waste",
      "metadata": {
        "id": "better-waste"
      },
      "outputs": [],
      "source": [
        "plot_wordcloud(neu_docx)"
      ]
    },
    {
      "cell_type": "code",
      "execution_count": null,
      "id": "adapted-penetration",
      "metadata": {
        "id": "adapted-penetration"
      },
      "outputs": [],
      "source": [
        "plot_wordcloud(pos_docx)"
      ]
    }
  ],
  "metadata": {
    "kernelspec": {
      "display_name": "Python 3",
      "language": "python",
      "name": "python3"
    },
    "language_info": {
      "codemirror_mode": {
        "name": "ipython",
        "version": 3
      },
      "file_extension": ".py",
      "mimetype": "text/x-python",
      "name": "python",
      "nbconvert_exporter": "python",
      "pygments_lexer": "ipython3",
      "version": "3.7.10"
    },
    "colab": {
      "name": "Sentiment Analysis Of Covid19.ipynb",
      "provenance": [],
      "collapsed_sections": [],
      "include_colab_link": true
    }
  },
  "nbformat": 4,
  "nbformat_minor": 5
}